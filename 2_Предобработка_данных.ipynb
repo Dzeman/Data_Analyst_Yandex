{
 "cells": [
  {
   "cell_type": "markdown",
   "id": "c81daeeb",
   "metadata": {
    "deletable": false,
    "id": "c81daeeb"
   },
   "source": [
    "# Исследование надежности заемщиков\n"
   ]
  },
  {
   "cell_type": "markdown",
   "id": "744d7639",
   "metadata": {
    "deletable": false,
    "id": "744d7639"
   },
   "source": [
    "## Откройте таблицу и изучите общую информацию о данных"
   ]
  },
  {
   "cell_type": "markdown",
   "id": "e7a14c31",
   "metadata": {
    "deletable": false,
    "id": "e7a14c31"
   },
   "source": [
    "**Задание 1. Импортируйте библиотеку pandas. Считайте данные из csv-файла в датафрейм и сохраните в переменную `data`. Путь к файлу:**\n",
    "\n",
    "`/datasets/data.csv`"
   ]
  },
  {
   "cell_type": "code",
   "execution_count": 1,
   "id": "7bcf75c9",
   "metadata": {
    "deletable": false,
    "id": "7bcf75c9"
   },
   "outputs": [],
   "source": [
    "import pandas as pd\n",
    "\n",
    "try:\n",
    "    data = pd.read_csv('/datasets/data.csv')\n",
    "except:\n",
    "    data = pd.read_csv('https://code.s3.yandex.net/datasets/data.csv')"
   ]
  },
  {
   "cell_type": "markdown",
   "id": "b8038fe3",
   "metadata": {
    "deletable": false,
    "id": "b8038fe3"
   },
   "source": [
    "**Задание 2. Выведите первые 20 строчек датафрейма `data` на экран.**"
   ]
  },
  {
   "cell_type": "code",
   "execution_count": 2,
   "id": "2a7cab99",
   "metadata": {
    "deletable": false,
    "id": "2a7cab99",
    "outputId": "1a8f3ef2-d323-4ec2-ddf7-89670b5944c4"
   },
   "outputs": [
    {
     "data": {
      "text/html": [
       "<div>\n",
       "<style scoped>\n",
       "    .dataframe tbody tr th:only-of-type {\n",
       "        vertical-align: middle;\n",
       "    }\n",
       "\n",
       "    .dataframe tbody tr th {\n",
       "        vertical-align: top;\n",
       "    }\n",
       "\n",
       "    .dataframe thead th {\n",
       "        text-align: right;\n",
       "    }\n",
       "</style>\n",
       "<table border=\"1\" class=\"dataframe\">\n",
       "  <thead>\n",
       "    <tr style=\"text-align: right;\">\n",
       "      <th></th>\n",
       "      <th>children</th>\n",
       "      <th>days_employed</th>\n",
       "      <th>dob_years</th>\n",
       "      <th>education</th>\n",
       "      <th>education_id</th>\n",
       "      <th>family_status</th>\n",
       "      <th>family_status_id</th>\n",
       "      <th>gender</th>\n",
       "      <th>income_type</th>\n",
       "      <th>debt</th>\n",
       "      <th>total_income</th>\n",
       "      <th>purpose</th>\n",
       "    </tr>\n",
       "  </thead>\n",
       "  <tbody>\n",
       "    <tr>\n",
       "      <th>0</th>\n",
       "      <td>1</td>\n",
       "      <td>-8437.673028</td>\n",
       "      <td>42</td>\n",
       "      <td>высшее</td>\n",
       "      <td>0</td>\n",
       "      <td>женат / замужем</td>\n",
       "      <td>0</td>\n",
       "      <td>F</td>\n",
       "      <td>сотрудник</td>\n",
       "      <td>0</td>\n",
       "      <td>253875.639453</td>\n",
       "      <td>покупка жилья</td>\n",
       "    </tr>\n",
       "    <tr>\n",
       "      <th>1</th>\n",
       "      <td>1</td>\n",
       "      <td>-4024.803754</td>\n",
       "      <td>36</td>\n",
       "      <td>среднее</td>\n",
       "      <td>1</td>\n",
       "      <td>женат / замужем</td>\n",
       "      <td>0</td>\n",
       "      <td>F</td>\n",
       "      <td>сотрудник</td>\n",
       "      <td>0</td>\n",
       "      <td>112080.014102</td>\n",
       "      <td>приобретение автомобиля</td>\n",
       "    </tr>\n",
       "    <tr>\n",
       "      <th>2</th>\n",
       "      <td>0</td>\n",
       "      <td>-5623.422610</td>\n",
       "      <td>33</td>\n",
       "      <td>Среднее</td>\n",
       "      <td>1</td>\n",
       "      <td>женат / замужем</td>\n",
       "      <td>0</td>\n",
       "      <td>M</td>\n",
       "      <td>сотрудник</td>\n",
       "      <td>0</td>\n",
       "      <td>145885.952297</td>\n",
       "      <td>покупка жилья</td>\n",
       "    </tr>\n",
       "    <tr>\n",
       "      <th>3</th>\n",
       "      <td>3</td>\n",
       "      <td>-4124.747207</td>\n",
       "      <td>32</td>\n",
       "      <td>среднее</td>\n",
       "      <td>1</td>\n",
       "      <td>женат / замужем</td>\n",
       "      <td>0</td>\n",
       "      <td>M</td>\n",
       "      <td>сотрудник</td>\n",
       "      <td>0</td>\n",
       "      <td>267628.550329</td>\n",
       "      <td>дополнительное образование</td>\n",
       "    </tr>\n",
       "    <tr>\n",
       "      <th>4</th>\n",
       "      <td>0</td>\n",
       "      <td>340266.072047</td>\n",
       "      <td>53</td>\n",
       "      <td>среднее</td>\n",
       "      <td>1</td>\n",
       "      <td>гражданский брак</td>\n",
       "      <td>1</td>\n",
       "      <td>F</td>\n",
       "      <td>пенсионер</td>\n",
       "      <td>0</td>\n",
       "      <td>158616.077870</td>\n",
       "      <td>сыграть свадьбу</td>\n",
       "    </tr>\n",
       "    <tr>\n",
       "      <th>5</th>\n",
       "      <td>0</td>\n",
       "      <td>-926.185831</td>\n",
       "      <td>27</td>\n",
       "      <td>высшее</td>\n",
       "      <td>0</td>\n",
       "      <td>гражданский брак</td>\n",
       "      <td>1</td>\n",
       "      <td>M</td>\n",
       "      <td>компаньон</td>\n",
       "      <td>0</td>\n",
       "      <td>255763.565419</td>\n",
       "      <td>покупка жилья</td>\n",
       "    </tr>\n",
       "    <tr>\n",
       "      <th>6</th>\n",
       "      <td>0</td>\n",
       "      <td>-2879.202052</td>\n",
       "      <td>43</td>\n",
       "      <td>высшее</td>\n",
       "      <td>0</td>\n",
       "      <td>женат / замужем</td>\n",
       "      <td>0</td>\n",
       "      <td>F</td>\n",
       "      <td>компаньон</td>\n",
       "      <td>0</td>\n",
       "      <td>240525.971920</td>\n",
       "      <td>операции с жильем</td>\n",
       "    </tr>\n",
       "    <tr>\n",
       "      <th>7</th>\n",
       "      <td>0</td>\n",
       "      <td>-152.779569</td>\n",
       "      <td>50</td>\n",
       "      <td>СРЕДНЕЕ</td>\n",
       "      <td>1</td>\n",
       "      <td>женат / замужем</td>\n",
       "      <td>0</td>\n",
       "      <td>M</td>\n",
       "      <td>сотрудник</td>\n",
       "      <td>0</td>\n",
       "      <td>135823.934197</td>\n",
       "      <td>образование</td>\n",
       "    </tr>\n",
       "    <tr>\n",
       "      <th>8</th>\n",
       "      <td>2</td>\n",
       "      <td>-6929.865299</td>\n",
       "      <td>35</td>\n",
       "      <td>ВЫСШЕЕ</td>\n",
       "      <td>0</td>\n",
       "      <td>гражданский брак</td>\n",
       "      <td>1</td>\n",
       "      <td>F</td>\n",
       "      <td>сотрудник</td>\n",
       "      <td>0</td>\n",
       "      <td>95856.832424</td>\n",
       "      <td>на проведение свадьбы</td>\n",
       "    </tr>\n",
       "    <tr>\n",
       "      <th>9</th>\n",
       "      <td>0</td>\n",
       "      <td>-2188.756445</td>\n",
       "      <td>41</td>\n",
       "      <td>среднее</td>\n",
       "      <td>1</td>\n",
       "      <td>женат / замужем</td>\n",
       "      <td>0</td>\n",
       "      <td>M</td>\n",
       "      <td>сотрудник</td>\n",
       "      <td>0</td>\n",
       "      <td>144425.938277</td>\n",
       "      <td>покупка жилья для семьи</td>\n",
       "    </tr>\n",
       "    <tr>\n",
       "      <th>10</th>\n",
       "      <td>2</td>\n",
       "      <td>-4171.483647</td>\n",
       "      <td>36</td>\n",
       "      <td>высшее</td>\n",
       "      <td>0</td>\n",
       "      <td>женат / замужем</td>\n",
       "      <td>0</td>\n",
       "      <td>M</td>\n",
       "      <td>компаньон</td>\n",
       "      <td>0</td>\n",
       "      <td>113943.491460</td>\n",
       "      <td>покупка недвижимости</td>\n",
       "    </tr>\n",
       "    <tr>\n",
       "      <th>11</th>\n",
       "      <td>0</td>\n",
       "      <td>-792.701887</td>\n",
       "      <td>40</td>\n",
       "      <td>среднее</td>\n",
       "      <td>1</td>\n",
       "      <td>женат / замужем</td>\n",
       "      <td>0</td>\n",
       "      <td>F</td>\n",
       "      <td>сотрудник</td>\n",
       "      <td>0</td>\n",
       "      <td>77069.234271</td>\n",
       "      <td>покупка коммерческой недвижимости</td>\n",
       "    </tr>\n",
       "    <tr>\n",
       "      <th>12</th>\n",
       "      <td>0</td>\n",
       "      <td>NaN</td>\n",
       "      <td>65</td>\n",
       "      <td>среднее</td>\n",
       "      <td>1</td>\n",
       "      <td>гражданский брак</td>\n",
       "      <td>1</td>\n",
       "      <td>M</td>\n",
       "      <td>пенсионер</td>\n",
       "      <td>0</td>\n",
       "      <td>NaN</td>\n",
       "      <td>сыграть свадьбу</td>\n",
       "    </tr>\n",
       "    <tr>\n",
       "      <th>13</th>\n",
       "      <td>0</td>\n",
       "      <td>-1846.641941</td>\n",
       "      <td>54</td>\n",
       "      <td>неоконченное высшее</td>\n",
       "      <td>2</td>\n",
       "      <td>женат / замужем</td>\n",
       "      <td>0</td>\n",
       "      <td>F</td>\n",
       "      <td>сотрудник</td>\n",
       "      <td>0</td>\n",
       "      <td>130458.228857</td>\n",
       "      <td>приобретение автомобиля</td>\n",
       "    </tr>\n",
       "    <tr>\n",
       "      <th>14</th>\n",
       "      <td>0</td>\n",
       "      <td>-1844.956182</td>\n",
       "      <td>56</td>\n",
       "      <td>высшее</td>\n",
       "      <td>0</td>\n",
       "      <td>гражданский брак</td>\n",
       "      <td>1</td>\n",
       "      <td>F</td>\n",
       "      <td>компаньон</td>\n",
       "      <td>1</td>\n",
       "      <td>165127.911772</td>\n",
       "      <td>покупка жилой недвижимости</td>\n",
       "    </tr>\n",
       "    <tr>\n",
       "      <th>15</th>\n",
       "      <td>1</td>\n",
       "      <td>-972.364419</td>\n",
       "      <td>26</td>\n",
       "      <td>среднее</td>\n",
       "      <td>1</td>\n",
       "      <td>женат / замужем</td>\n",
       "      <td>0</td>\n",
       "      <td>F</td>\n",
       "      <td>сотрудник</td>\n",
       "      <td>0</td>\n",
       "      <td>116820.904450</td>\n",
       "      <td>строительство собственной недвижимости</td>\n",
       "    </tr>\n",
       "    <tr>\n",
       "      <th>16</th>\n",
       "      <td>0</td>\n",
       "      <td>-1719.934226</td>\n",
       "      <td>35</td>\n",
       "      <td>среднее</td>\n",
       "      <td>1</td>\n",
       "      <td>женат / замужем</td>\n",
       "      <td>0</td>\n",
       "      <td>F</td>\n",
       "      <td>сотрудник</td>\n",
       "      <td>0</td>\n",
       "      <td>289202.704229</td>\n",
       "      <td>недвижимость</td>\n",
       "    </tr>\n",
       "    <tr>\n",
       "      <th>17</th>\n",
       "      <td>0</td>\n",
       "      <td>-2369.999720</td>\n",
       "      <td>33</td>\n",
       "      <td>высшее</td>\n",
       "      <td>0</td>\n",
       "      <td>гражданский брак</td>\n",
       "      <td>1</td>\n",
       "      <td>M</td>\n",
       "      <td>сотрудник</td>\n",
       "      <td>0</td>\n",
       "      <td>90410.586745</td>\n",
       "      <td>строительство недвижимости</td>\n",
       "    </tr>\n",
       "    <tr>\n",
       "      <th>18</th>\n",
       "      <td>0</td>\n",
       "      <td>400281.136913</td>\n",
       "      <td>53</td>\n",
       "      <td>среднее</td>\n",
       "      <td>1</td>\n",
       "      <td>вдовец / вдова</td>\n",
       "      <td>2</td>\n",
       "      <td>F</td>\n",
       "      <td>пенсионер</td>\n",
       "      <td>0</td>\n",
       "      <td>56823.777243</td>\n",
       "      <td>на покупку подержанного автомобиля</td>\n",
       "    </tr>\n",
       "    <tr>\n",
       "      <th>19</th>\n",
       "      <td>0</td>\n",
       "      <td>-10038.818549</td>\n",
       "      <td>48</td>\n",
       "      <td>СРЕДНЕЕ</td>\n",
       "      <td>1</td>\n",
       "      <td>в разводе</td>\n",
       "      <td>3</td>\n",
       "      <td>F</td>\n",
       "      <td>сотрудник</td>\n",
       "      <td>0</td>\n",
       "      <td>242831.107982</td>\n",
       "      <td>на покупку своего автомобиля</td>\n",
       "    </tr>\n",
       "  </tbody>\n",
       "</table>\n",
       "</div>"
      ],
      "text/plain": [
       "    children  days_employed  dob_years            education  education_id  \\\n",
       "0          1   -8437.673028         42               высшее             0   \n",
       "1          1   -4024.803754         36              среднее             1   \n",
       "2          0   -5623.422610         33              Среднее             1   \n",
       "3          3   -4124.747207         32              среднее             1   \n",
       "4          0  340266.072047         53              среднее             1   \n",
       "5          0    -926.185831         27               высшее             0   \n",
       "6          0   -2879.202052         43               высшее             0   \n",
       "7          0    -152.779569         50              СРЕДНЕЕ             1   \n",
       "8          2   -6929.865299         35               ВЫСШЕЕ             0   \n",
       "9          0   -2188.756445         41              среднее             1   \n",
       "10         2   -4171.483647         36               высшее             0   \n",
       "11         0    -792.701887         40              среднее             1   \n",
       "12         0            NaN         65              среднее             1   \n",
       "13         0   -1846.641941         54  неоконченное высшее             2   \n",
       "14         0   -1844.956182         56               высшее             0   \n",
       "15         1    -972.364419         26              среднее             1   \n",
       "16         0   -1719.934226         35              среднее             1   \n",
       "17         0   -2369.999720         33               высшее             0   \n",
       "18         0  400281.136913         53              среднее             1   \n",
       "19         0  -10038.818549         48              СРЕДНЕЕ             1   \n",
       "\n",
       "       family_status  family_status_id gender income_type  debt  \\\n",
       "0    женат / замужем                 0      F   сотрудник     0   \n",
       "1    женат / замужем                 0      F   сотрудник     0   \n",
       "2    женат / замужем                 0      M   сотрудник     0   \n",
       "3    женат / замужем                 0      M   сотрудник     0   \n",
       "4   гражданский брак                 1      F   пенсионер     0   \n",
       "5   гражданский брак                 1      M   компаньон     0   \n",
       "6    женат / замужем                 0      F   компаньон     0   \n",
       "7    женат / замужем                 0      M   сотрудник     0   \n",
       "8   гражданский брак                 1      F   сотрудник     0   \n",
       "9    женат / замужем                 0      M   сотрудник     0   \n",
       "10   женат / замужем                 0      M   компаньон     0   \n",
       "11   женат / замужем                 0      F   сотрудник     0   \n",
       "12  гражданский брак                 1      M   пенсионер     0   \n",
       "13   женат / замужем                 0      F   сотрудник     0   \n",
       "14  гражданский брак                 1      F   компаньон     1   \n",
       "15   женат / замужем                 0      F   сотрудник     0   \n",
       "16   женат / замужем                 0      F   сотрудник     0   \n",
       "17  гражданский брак                 1      M   сотрудник     0   \n",
       "18    вдовец / вдова                 2      F   пенсионер     0   \n",
       "19         в разводе                 3      F   сотрудник     0   \n",
       "\n",
       "     total_income                                 purpose  \n",
       "0   253875.639453                           покупка жилья  \n",
       "1   112080.014102                 приобретение автомобиля  \n",
       "2   145885.952297                           покупка жилья  \n",
       "3   267628.550329              дополнительное образование  \n",
       "4   158616.077870                         сыграть свадьбу  \n",
       "5   255763.565419                           покупка жилья  \n",
       "6   240525.971920                       операции с жильем  \n",
       "7   135823.934197                             образование  \n",
       "8    95856.832424                   на проведение свадьбы  \n",
       "9   144425.938277                 покупка жилья для семьи  \n",
       "10  113943.491460                    покупка недвижимости  \n",
       "11   77069.234271       покупка коммерческой недвижимости  \n",
       "12            NaN                         сыграть свадьбу  \n",
       "13  130458.228857                 приобретение автомобиля  \n",
       "14  165127.911772              покупка жилой недвижимости  \n",
       "15  116820.904450  строительство собственной недвижимости  \n",
       "16  289202.704229                            недвижимость  \n",
       "17   90410.586745              строительство недвижимости  \n",
       "18   56823.777243      на покупку подержанного автомобиля  \n",
       "19  242831.107982            на покупку своего автомобиля  "
      ]
     },
     "execution_count": 2,
     "metadata": {},
     "output_type": "execute_result"
    }
   ],
   "source": [
    "data.head(20)"
   ]
  },
  {
   "cell_type": "markdown",
   "id": "1c12e233",
   "metadata": {
    "deletable": false,
    "id": "1c12e233"
   },
   "source": [
    "**Задание 3. Выведите основную информацию о датафрейме с помощью метода `info()`.**"
   ]
  },
  {
   "cell_type": "code",
   "execution_count": 3,
   "id": "2b757bca",
   "metadata": {
    "deletable": false,
    "id": "2b757bca",
    "outputId": "15376089-8dad-46c9-b520-c05248d43158"
   },
   "outputs": [
    {
     "name": "stdout",
     "output_type": "stream",
     "text": [
      "<class 'pandas.core.frame.DataFrame'>\n",
      "RangeIndex: 21525 entries, 0 to 21524\n",
      "Data columns (total 12 columns):\n",
      " #   Column            Non-Null Count  Dtype  \n",
      "---  ------            --------------  -----  \n",
      " 0   children          21525 non-null  int64  \n",
      " 1   days_employed     19351 non-null  float64\n",
      " 2   dob_years         21525 non-null  int64  \n",
      " 3   education         21525 non-null  object \n",
      " 4   education_id      21525 non-null  int64  \n",
      " 5   family_status     21525 non-null  object \n",
      " 6   family_status_id  21525 non-null  int64  \n",
      " 7   gender            21525 non-null  object \n",
      " 8   income_type       21525 non-null  object \n",
      " 9   debt              21525 non-null  int64  \n",
      " 10  total_income      19351 non-null  float64\n",
      " 11  purpose           21525 non-null  object \n",
      "dtypes: float64(2), int64(5), object(5)\n",
      "memory usage: 2.0+ MB\n"
     ]
    }
   ],
   "source": [
    "data.info()"
   ]
  },
  {
   "cell_type": "markdown",
   "id": "333ec665",
   "metadata": {
    "deletable": false,
    "id": "333ec665"
   },
   "source": [
    "## Предобработка данных"
   ]
  },
  {
   "cell_type": "markdown",
   "id": "02d92d53",
   "metadata": {
    "deletable": false,
    "id": "02d92d53"
   },
   "source": [
    "### Удаление пропусков"
   ]
  },
  {
   "cell_type": "markdown",
   "id": "cd84967c",
   "metadata": {
    "deletable": false,
    "id": "cd84967c"
   },
   "source": [
    "**Задание 4. Выведите количество пропущенных значений для каждого столбца. Используйте комбинацию двух методов.**"
   ]
  },
  {
   "cell_type": "code",
   "execution_count": 4,
   "id": "7f9b2309",
   "metadata": {
    "deletable": false,
    "id": "7f9b2309",
    "outputId": "81f4d817-781c-465c-ed15-91ce4446810d"
   },
   "outputs": [
    {
     "data": {
      "text/plain": [
       "children               0\n",
       "days_employed       2174\n",
       "dob_years              0\n",
       "education              0\n",
       "education_id           0\n",
       "family_status          0\n",
       "family_status_id       0\n",
       "gender                 0\n",
       "income_type            0\n",
       "debt                   0\n",
       "total_income        2174\n",
       "purpose                0\n",
       "dtype: int64"
      ]
     },
     "execution_count": 4,
     "metadata": {},
     "output_type": "execute_result"
    }
   ],
   "source": [
    "data.isna().sum()"
   ]
  },
  {
   "cell_type": "markdown",
   "id": "db86e27b",
   "metadata": {
    "deletable": false,
    "id": "db86e27b"
   },
   "source": [
    "**Задание 5. В двух столбцах есть пропущенные значения. Один из них — `days_employed`. Пропуски в этом столбце вы обработаете на следующем этапе. Другой столбец с пропущенными значениями — `total_income` — хранит данные о доходах. На сумму дохода сильнее всего влияет тип занятости, поэтому заполнить пропуски в этом столбце нужно медианным значением по каждому типу из столбца `income_type`. Например, у человека с типом занятости `сотрудник` пропуск в столбце `total_income` должен быть заполнен медианным доходом среди всех записей с тем же типом.**"
   ]
  },
  {
   "cell_type": "code",
   "execution_count": 5,
   "id": "42006a93",
   "metadata": {
    "deletable": false,
    "id": "42006a93"
   },
   "outputs": [],
   "source": [
    "for t in data['income_type'].unique():\n",
    "    data.loc[(data['income_type'] == t) & (data['total_income'].isna()), 'total_income'] = \\\n",
    "    data.loc[(data['income_type'] == t), 'total_income'].median()"
   ]
  },
  {
   "cell_type": "markdown",
   "id": "89da5ece",
   "metadata": {
    "deletable": false,
    "id": "89da5ece"
   },
   "source": [
    "### Обработка аномальных значений"
   ]
  },
  {
   "cell_type": "markdown",
   "id": "57964554",
   "metadata": {
    "deletable": false,
    "id": "57964554"
   },
   "source": [
    "**Задание 6. В данных могут встречаться артефакты (аномалии) — значения, которые не отражают действительность и появились по какой-то ошибке. таким артефактом будет отрицательное количество дней трудового стажа в столбце `days_employed`. Для реальных данных это нормально. Обработайте значения в этом столбце: замените все отрицательные значения положительными с помощью метода `abs()`.**"
   ]
  },
  {
   "cell_type": "code",
   "execution_count": 6,
   "id": "f6f055bf",
   "metadata": {
    "deletable": false,
    "id": "f6f055bf"
   },
   "outputs": [],
   "source": [
    "data['days_employed'] = data['days_employed'].abs()"
   ]
  },
  {
   "cell_type": "markdown",
   "id": "6107dd2f",
   "metadata": {
    "deletable": false,
    "id": "6107dd2f"
   },
   "source": [
    "**Задание 7. Для каждого типа занятости выведите медианное значение трудового стажа `days_employed` в днях.**"
   ]
  },
  {
   "cell_type": "code",
   "execution_count": 7,
   "id": "85a5faf6",
   "metadata": {
    "deletable": false,
    "id": "85a5faf6",
    "outputId": "801ef80e-522b-4668-f34e-565af7432bcf"
   },
   "outputs": [
    {
     "data": {
      "text/plain": [
       "income_type\n",
       "безработный        366413.652744\n",
       "в декрете            3296.759962\n",
       "госслужащий          2689.368353\n",
       "компаньон            1547.382223\n",
       "пенсионер          365213.306266\n",
       "предприниматель       520.848083\n",
       "сотрудник            1574.202821\n",
       "студент               578.751554\n",
       "Name: days_employed, dtype: float64"
      ]
     },
     "execution_count": 7,
     "metadata": {},
     "output_type": "execute_result"
    }
   ],
   "source": [
    "data.groupby('income_type')['days_employed'].agg('median')"
   ]
  },
  {
   "cell_type": "markdown",
   "id": "38d1a030",
   "metadata": {
    "deletable": false,
    "id": "38d1a030"
   },
   "source": [
    "У двух типов (безработные и пенсионеры) получатся аномально большие значения. Исправить такие значения сложно, поэтому оставьте их как есть. Тем более этот столбец не понадобится вам для исследования."
   ]
  },
  {
   "cell_type": "markdown",
   "id": "d8a9f147",
   "metadata": {
    "deletable": false,
    "id": "d8a9f147"
   },
   "source": [
    "**Задание 8. Выведите перечень уникальных значений столбца `children`.**"
   ]
  },
  {
   "cell_type": "code",
   "execution_count": 8,
   "id": "ef5056eb",
   "metadata": {
    "deletable": false,
    "id": "ef5056eb",
    "outputId": "6975b15c-7f95-4697-d16d-a0c79b657b03"
   },
   "outputs": [
    {
     "data": {
      "text/plain": [
       "array([ 1,  0,  3,  2, -1,  4, 20,  5])"
      ]
     },
     "execution_count": 8,
     "metadata": {},
     "output_type": "execute_result"
    }
   ],
   "source": [
    "data['children'].unique()"
   ]
  },
  {
   "cell_type": "markdown",
   "id": "40b9ebf2",
   "metadata": {
    "deletable": false,
    "id": "40b9ebf2"
   },
   "source": [
    "**Задание 9. В столбце `children` есть два аномальных значения. Удалите строки, в которых встречаются такие аномальные значения из датафрейма `data`.**"
   ]
  },
  {
   "cell_type": "code",
   "execution_count": 9,
   "id": "3ff9801d",
   "metadata": {
    "deletable": false,
    "id": "3ff9801d"
   },
   "outputs": [],
   "source": [
    "data = data[(data['children'] != -1) & (data['children'] != 20)]"
   ]
  },
  {
   "cell_type": "markdown",
   "id": "bbc4d0ce",
   "metadata": {
    "deletable": false,
    "id": "bbc4d0ce"
   },
   "source": [
    "**Задание 10. Ещё раз выведите перечень уникальных значений столбца `children`, чтобы убедиться, что артефакты удалены.**"
   ]
  },
  {
   "cell_type": "code",
   "execution_count": 10,
   "id": "ad4fa8b7",
   "metadata": {
    "deletable": false,
    "id": "ad4fa8b7",
    "outputId": "b2097101-d49d-44d9-901b-32a65c9463d1"
   },
   "outputs": [
    {
     "data": {
      "text/plain": [
       "array([1, 0, 3, 2, 4, 5])"
      ]
     },
     "execution_count": 10,
     "metadata": {},
     "output_type": "execute_result"
    }
   ],
   "source": [
    "data['children'].unique()"
   ]
  },
  {
   "cell_type": "markdown",
   "id": "75440b63",
   "metadata": {
    "deletable": false,
    "id": "75440b63"
   },
   "source": [
    "### Удаление пропусков (продолжение)"
   ]
  },
  {
   "cell_type": "markdown",
   "id": "f4ea573f",
   "metadata": {
    "deletable": false,
    "id": "f4ea573f"
   },
   "source": [
    "**Задание 11. Заполните пропуски в столбце `days_employed` медианными значениями по каждого типа занятости `income_type`.**"
   ]
  },
  {
   "cell_type": "code",
   "execution_count": 11,
   "id": "af6b1a7e",
   "metadata": {
    "deletable": false,
    "id": "af6b1a7e"
   },
   "outputs": [],
   "source": [
    "for t in data['income_type'].unique():\n",
    "    data.loc[(data['income_type'] == t) & (data['days_employed'].isna()), 'days_employed'] = \\\n",
    "    data.loc[(data['income_type'] == t), 'days_employed'].median()"
   ]
  },
  {
   "cell_type": "markdown",
   "id": "2753f40d",
   "metadata": {
    "deletable": false,
    "id": "2753f40d"
   },
   "source": [
    "**Задание 12. Убедитесь, что все пропуски заполнены. Проверьте себя и ещё раз выведите количество пропущенных значений для каждого столбца с помощью двух методов.**"
   ]
  },
  {
   "cell_type": "code",
   "execution_count": 12,
   "id": "55f78bc2",
   "metadata": {
    "deletable": false,
    "id": "55f78bc2",
    "outputId": "8da1e4e1-358e-4e87-98c9-f261bce0a7b2"
   },
   "outputs": [
    {
     "data": {
      "text/plain": [
       "children            0\n",
       "days_employed       0\n",
       "dob_years           0\n",
       "education           0\n",
       "education_id        0\n",
       "family_status       0\n",
       "family_status_id    0\n",
       "gender              0\n",
       "income_type         0\n",
       "debt                0\n",
       "total_income        0\n",
       "purpose             0\n",
       "dtype: int64"
      ]
     },
     "execution_count": 12,
     "metadata": {},
     "output_type": "execute_result"
    }
   ],
   "source": [
    "data.isna().sum()"
   ]
  },
  {
   "cell_type": "markdown",
   "id": "ddc81e43",
   "metadata": {
    "deletable": false,
    "id": "ddc81e43"
   },
   "source": [
    "### Изменение типов данных"
   ]
  },
  {
   "cell_type": "markdown",
   "id": "42d19d24",
   "metadata": {
    "deletable": false,
    "id": "42d19d24"
   },
   "source": [
    "**Задание 13. Замените вещественный тип данных в столбце `total_income` на целочисленный с помощью метода `astype()`.**"
   ]
  },
  {
   "cell_type": "code",
   "execution_count": 13,
   "id": "920b65ad",
   "metadata": {
    "deletable": false,
    "id": "920b65ad"
   },
   "outputs": [],
   "source": [
    "data['total_income'] = data['total_income'].astype(int)"
   ]
  },
  {
   "cell_type": "markdown",
   "id": "80c420ba",
   "metadata": {
    "deletable": false,
    "id": "80c420ba"
   },
   "source": [
    "### Обработка дубликатов"
   ]
  },
  {
   "cell_type": "markdown",
   "id": "dc587695",
   "metadata": {
    "deletable": false,
    "id": "dc587695"
   },
   "source": [
    "**Задание 14. Выведите на экран количество строк-дубликатов в данных. Если такие строки присутствуют, удалите их.**"
   ]
  },
  {
   "cell_type": "code",
   "execution_count": 14,
   "id": "3ee445e4",
   "metadata": {
    "deletable": false,
    "id": "3ee445e4",
    "outputId": "9684deba-1934-42d1-99e1-cda61740f822"
   },
   "outputs": [
    {
     "data": {
      "text/plain": [
       "54"
      ]
     },
     "execution_count": 14,
     "metadata": {},
     "output_type": "execute_result"
    }
   ],
   "source": [
    "data.duplicated().sum()"
   ]
  },
  {
   "cell_type": "code",
   "execution_count": 15,
   "id": "8575fe05",
   "metadata": {
    "deletable": false,
    "id": "8575fe05"
   },
   "outputs": [],
   "source": [
    "data = data.drop_duplicates()"
   ]
  },
  {
   "cell_type": "markdown",
   "id": "9771a76c",
   "metadata": {
    "deletable": false,
    "id": "9771a76c"
   },
   "source": [
    "**Задание 15. Обработайте неявные дубликаты в столбце `education`. В этом столбце есть одни и те же значения, но записанные по-разному: с использованием заглавных и строчных букв. Приведите их к нижнему регистру. Проверьте остальные столбцы.**"
   ]
  },
  {
   "cell_type": "code",
   "execution_count": 16,
   "id": "a9f8e2bf",
   "metadata": {
    "deletable": false,
    "id": "a9f8e2bf"
   },
   "outputs": [],
   "source": [
    "data['education'] = data['education'].str.lower()"
   ]
  },
  {
   "cell_type": "markdown",
   "id": "9904cf55",
   "metadata": {
    "deletable": false,
    "id": "9904cf55"
   },
   "source": [
    "### Категоризация данных"
   ]
  },
  {
   "cell_type": "markdown",
   "id": "72fcc8a2",
   "metadata": {
    "deletable": false,
    "id": "72fcc8a2"
   },
   "source": [
    "**Задание 16. На основании диапазонов, указанных ниже, создайте в датафрейме `data` столбец `total_income_category` с категориями:**\n",
    "\n",
    "- 0–30000 — `'E'`;\n",
    "- 30001–50000 — `'D'`;\n",
    "- 50001–200000 — `'C'`;\n",
    "- 200001–1000000 — `'B'`;\n",
    "- 1000001 и выше — `'A'`.\n",
    "\n",
    "\n",
    "**Например, кредитополучателю с доходом 25000 нужно назначить категорию `'E'`, а клиенту, получающему 235000, — `'B'`. Используйте собственную функцию с именем `categorize_income()` и метод `apply()`.**"
   ]
  },
  {
   "cell_type": "code",
   "execution_count": 17,
   "id": "e1771346",
   "metadata": {
    "deletable": false,
    "id": "e1771346"
   },
   "outputs": [],
   "source": [
    "def categorize_income(income):\n",
    "    try:\n",
    "        if 0 <= income <= 30000:\n",
    "            return 'E'\n",
    "        elif 30001 <= income <= 50000:\n",
    "            return 'D'\n",
    "        elif 50001 <= income <= 200000:\n",
    "            return 'C'\n",
    "        elif 200001 <= income <= 1000000:\n",
    "            return 'B'\n",
    "        elif income >= 1000001:\n",
    "            return 'A'\n",
    "    except:\n",
    "        pass"
   ]
  },
  {
   "cell_type": "code",
   "execution_count": 18,
   "id": "d5f3586d",
   "metadata": {
    "deletable": false,
    "id": "d5f3586d"
   },
   "outputs": [],
   "source": [
    "data['total_income_category'] = data['total_income'].apply(categorize_income)"
   ]
  },
  {
   "cell_type": "markdown",
   "id": "dde49b5c",
   "metadata": {
    "deletable": false,
    "id": "dde49b5c"
   },
   "source": [
    "**Задание 17. Выведите на экран перечень уникальных целей взятия кредита из столбца `purpose`.**"
   ]
  },
  {
   "cell_type": "code",
   "execution_count": 19,
   "id": "f67ce9b3",
   "metadata": {
    "deletable": false,
    "id": "f67ce9b3",
    "outputId": "673c12d9-7d7e-4ae0-9812-c622c89dd244"
   },
   "outputs": [
    {
     "data": {
      "text/plain": [
       "array(['покупка жилья', 'приобретение автомобиля',\n",
       "       'дополнительное образование', 'сыграть свадьбу',\n",
       "       'операции с жильем', 'образование', 'на проведение свадьбы',\n",
       "       'покупка жилья для семьи', 'покупка недвижимости',\n",
       "       'покупка коммерческой недвижимости', 'покупка жилой недвижимости',\n",
       "       'строительство собственной недвижимости', 'недвижимость',\n",
       "       'строительство недвижимости', 'на покупку подержанного автомобиля',\n",
       "       'на покупку своего автомобиля',\n",
       "       'операции с коммерческой недвижимостью',\n",
       "       'строительство жилой недвижимости', 'жилье',\n",
       "       'операции со своей недвижимостью', 'автомобили',\n",
       "       'заняться образованием', 'сделка с подержанным автомобилем',\n",
       "       'получение образования', 'автомобиль', 'свадьба',\n",
       "       'получение дополнительного образования', 'покупка своего жилья',\n",
       "       'операции с недвижимостью', 'получение высшего образования',\n",
       "       'свой автомобиль', 'сделка с автомобилем',\n",
       "       'профильное образование', 'высшее образование',\n",
       "       'покупка жилья для сдачи', 'на покупку автомобиля', 'ремонт жилью',\n",
       "       'заняться высшим образованием'], dtype=object)"
      ]
     },
     "execution_count": 19,
     "metadata": {},
     "output_type": "execute_result"
    }
   ],
   "source": [
    "data['purpose'].unique()"
   ]
  },
  {
   "cell_type": "markdown",
   "id": "85d0aef0",
   "metadata": {
    "deletable": false,
    "id": "85d0aef0"
   },
   "source": [
    "**Задание 18. Создайте функцию, которая на основании данных из столбца `purpose` сформирует новый столбец `purpose_category`, в который войдут следующие категории:**\n",
    "\n",
    "- `'операции с автомобилем'`,\n",
    "- `'операции с недвижимостью'`,\n",
    "- `'проведение свадьбы'`,\n",
    "- `'получение образования'`.\n",
    "\n",
    "**Например, если в столбце `purpose` находится подстрока `'на покупку автомобиля'`, то в столбце `purpose_category` должна появиться строка `'операции с автомобилем'`.**\n",
    "\n",
    "**Используйте собственную функцию с именем `categorize_purpose()` и метод `apply()`. Изучите данные в столбце `purpose` и определите, какие подстроки помогут вам правильно определить категорию.**"
   ]
  },
  {
   "cell_type": "code",
   "execution_count": 20,
   "id": "e149fab4",
   "metadata": {
    "deletable": false,
    "id": "e149fab4"
   },
   "outputs": [],
   "source": [
    "def categorize_purpose(row):\n",
    "    try:\n",
    "        if 'автом' in row:\n",
    "            return 'операции с автомобилем'\n",
    "        elif 'жил' in row or 'недвиж' in row:\n",
    "            return 'операции с недвижимостью'\n",
    "        elif 'свад' in row:\n",
    "            return 'проведение свадьбы'\n",
    "        elif 'образов' in row:\n",
    "            return 'получение образования'\n",
    "    except:\n",
    "        return 'нет категории'"
   ]
  },
  {
   "cell_type": "code",
   "execution_count": 21,
   "id": "bf36e69b",
   "metadata": {
    "deletable": false,
    "id": "bf36e69b"
   },
   "outputs": [],
   "source": [
    "data['purpose_category'] = data['purpose'].apply(categorize_purpose)"
   ]
  },
  {
   "cell_type": "markdown",
   "id": "09b242bf",
   "metadata": {
    "deletable": false,
    "editable": false,
    "id": "09b242bf"
   },
   "source": [
    "## Исследуйте данные и ответьте на вопросы"
   ]
  },
  {
   "cell_type": "markdown",
   "id": "c5d66278",
   "metadata": {
    "deletable": false,
    "editable": false,
    "id": "c5d66278"
   },
   "source": [
    "**Задание 19. Есть ли зависимость между количеством детей и возвратом кредита в срок?**"
   ]
  },
  {
   "cell_type": "code",
   "execution_count": 22,
   "id": "2cacfc4a",
   "metadata": {
    "id": "2cacfc4a"
   },
   "outputs": [
    {
     "name": "stdout",
     "output_type": "stream",
     "text": [
      "Нет детей: 7.535266179910682\n",
      "Один ребёнок: 9.23268870867124\n",
      "Двое детей: 9.4541910331384\n",
      "Трое детей: 8.181818181818182\n",
      "Четверо детей: 9.75609756097561\n"
     ]
    }
   ],
   "source": [
    "\n",
    "#data.info()\n",
    "data_pivot1 = data.pivot_table(index=['debt'], columns='children', values = 'family_status_id', aggfunc='count') #сводная таблица\n",
    "#data_pivot1.head() c помощью сводной таблицы я вижу количество записей по каждой категории. Потом считаю отношение просроченных к общему \n",
    "\"\"\"Видим количества записей с группировкой по количеству детей в семье, \n",
    "из всего датасета только 9 записей у которых 5 детей, \n",
    "и ни одной с просроченной задолженностью; строка неинформативна, ее учитывать не буду\"\"\"\n",
    "children0 = data_pivot1[0][1] / (data_pivot1[0][0] + data_pivot1[0][1]) * 100\n",
    "children1 = data_pivot1[1][1] / (data_pivot1[1][0] +  data_pivot1[1][1])* 100\n",
    "children2 = data_pivot1[2][1] / (data_pivot1[2][0] + data_pivot1[2][1])* 100\n",
    "children3 = data_pivot1[3][1] / (data_pivot1[3][0] + data_pivot1[3][1])* 100\n",
    "children4 = data_pivot1[4][1] / (data_pivot1[4][0] + data_pivot1[4][1])* 100\n",
    "print('Нет детей:', children0)\n",
    "print('Один ребёнок:', children1)\n",
    "print('Двое детей:', children2)\n",
    "print('Трое детей:', children3)\n",
    "print('Четверо детей:', children4)"
   ]
  },
  {
   "cell_type": "markdown",
   "id": "ff40930c",
   "metadata": {},
   "source": [
    "Можно по-другому разбить группы и сравнить, например, три категории: нет детей, 1, 2 и больше:\n",
    "Добавим новую группировку:"
   ]
  },
  {
   "cell_type": "code",
   "execution_count": 23,
   "id": "7a145b5e",
   "metadata": {},
   "outputs": [
    {
     "data": {
      "text/html": [
       "<div>\n",
       "<style scoped>\n",
       "    .dataframe tbody tr th:only-of-type {\n",
       "        vertical-align: middle;\n",
       "    }\n",
       "\n",
       "    .dataframe tbody tr th {\n",
       "        vertical-align: top;\n",
       "    }\n",
       "\n",
       "    .dataframe thead th {\n",
       "        text-align: right;\n",
       "    }\n",
       "</style>\n",
       "<table border=\"1\" class=\"dataframe\">\n",
       "  <thead>\n",
       "    <tr style=\"text-align: right;\">\n",
       "      <th></th>\n",
       "      <th>sum</th>\n",
       "      <th>count</th>\n",
       "      <th>result</th>\n",
       "    </tr>\n",
       "    <tr>\n",
       "      <th>child_category_1</th>\n",
       "      <th></th>\n",
       "      <th></th>\n",
       "      <th></th>\n",
       "    </tr>\n",
       "  </thead>\n",
       "  <tbody>\n",
       "    <tr>\n",
       "      <th>2 и более</th>\n",
       "      <td>225</td>\n",
       "      <td>2432</td>\n",
       "      <td>0.092516</td>\n",
       "    </tr>\n",
       "    <tr>\n",
       "      <th>Нет детей</th>\n",
       "      <td>1063</td>\n",
       "      <td>14107</td>\n",
       "      <td>0.075353</td>\n",
       "    </tr>\n",
       "    <tr>\n",
       "      <th>Один ребёнок</th>\n",
       "      <td>444</td>\n",
       "      <td>4809</td>\n",
       "      <td>0.092327</td>\n",
       "    </tr>\n",
       "  </tbody>\n",
       "</table>\n",
       "</div>"
      ],
      "text/plain": [
       "                   sum  count    result\n",
       "child_category_1                       \n",
       "2 и более          225   2432  0.092516\n",
       "Нет детей         1063  14107  0.075353\n",
       "Один ребёнок       444   4809  0.092327"
      ]
     },
     "execution_count": 23,
     "metadata": {},
     "output_type": "execute_result"
    }
   ],
   "source": [
    "def categorize_children(children):\n",
    "    try:\n",
    "        if children == 0:\n",
    "            return 'Нет детей'\n",
    "        elif children == 1:\n",
    "            return 'Один ребёнок'\n",
    "        else:\n",
    "            return '2 и более'\n",
    "    except:\n",
    "        pass\n",
    "data['child_category_1'] = data['children'].apply(categorize_children)\n",
    "#data_pivot1 = data.pivot_table(index=['debt'], columns='child_category_1', values = 'family_status_id', aggfunc='count') \n",
    "#сгруппируем данные и найдем конверсию по просроченным выплатам\n",
    "child_conv = pd.DataFrame()\n",
    "child_conv['sum'] = data.groupby('child_category_1')['debt'].sum()\n",
    "child_conv['count'] = data.groupby('child_category_1')['debt'].count()\n",
    "child_conv['result'] = child_conv['sum'] / child_conv['count']\n",
    "child_conv"
   ]
  },
  {
   "cell_type": "markdown",
   "id": "8514d80a",
   "metadata": {},
   "source": [
    "При делении на три группы видно, что вероятность просрочки одинакова у групп с одним ребенком и двумя и более, сделаем еще одну группировку: Есть дети и Нет детей. "
   ]
  },
  {
   "cell_type": "code",
   "execution_count": 24,
   "id": "93f725ff",
   "metadata": {},
   "outputs": [
    {
     "data": {
      "text/html": [
       "<div>\n",
       "<style scoped>\n",
       "    .dataframe tbody tr th:only-of-type {\n",
       "        vertical-align: middle;\n",
       "    }\n",
       "\n",
       "    .dataframe tbody tr th {\n",
       "        vertical-align: top;\n",
       "    }\n",
       "\n",
       "    .dataframe thead th {\n",
       "        text-align: right;\n",
       "    }\n",
       "</style>\n",
       "<table border=\"1\" class=\"dataframe\">\n",
       "  <thead>\n",
       "    <tr style=\"text-align: right;\">\n",
       "      <th></th>\n",
       "      <th>sum</th>\n",
       "      <th>count</th>\n",
       "      <th>result</th>\n",
       "    </tr>\n",
       "    <tr>\n",
       "      <th>child_category_2</th>\n",
       "      <th></th>\n",
       "      <th></th>\n",
       "      <th></th>\n",
       "    </tr>\n",
       "  </thead>\n",
       "  <tbody>\n",
       "    <tr>\n",
       "      <th>Есть дети</th>\n",
       "      <td>669</td>\n",
       "      <td>7241</td>\n",
       "      <td>0.092391</td>\n",
       "    </tr>\n",
       "    <tr>\n",
       "      <th>Нет детей</th>\n",
       "      <td>1063</td>\n",
       "      <td>14107</td>\n",
       "      <td>0.075353</td>\n",
       "    </tr>\n",
       "  </tbody>\n",
       "</table>\n",
       "</div>"
      ],
      "text/plain": [
       "                   sum  count    result\n",
       "child_category_2                       \n",
       "Есть дети          669   7241  0.092391\n",
       "Нет детей         1063  14107  0.075353"
      ]
     },
     "execution_count": 24,
     "metadata": {},
     "output_type": "execute_result"
    }
   ],
   "source": [
    "def categorize_children(children):\n",
    "    try:\n",
    "        if children > 0:\n",
    "            return 'Есть дети'\n",
    "        else:\n",
    "            return 'Нет детей'\n",
    "    except:\n",
    "        pass\n",
    "data['child_category_2'] = data['children'].apply(categorize_children)\n",
    "data_pivot1 = data.pivot_table(index=['debt'], columns='child_category_2', values = 'family_status_id', aggfunc='count')\n",
    "child_conv_1 = pd.DataFrame()\n",
    "child_conv_1['sum'] = data.groupby('child_category_2')['debt'].sum()\n",
    "child_conv_1['count'] = data.groupby('child_category_2')['debt'].count()\n",
    "child_conv_1['result'] = child_conv_1['sum'] / child_conv_1['count']\n",
    "child_conv_1"
   ]
  },
  {
   "cell_type": "markdown",
   "id": "bae39873",
   "metadata": {},
   "source": [
    "Сейчас можно утверждать, что кредитополучатели без детей будут чаще платить по кредиту в срок, чем кредитополучатели с детьми. Разница между этими значениями составляет 18%."
   ]
  },
  {
   "cell_type": "code",
   "execution_count": 25,
   "id": "cc52ae0d",
   "metadata": {},
   "outputs": [
    {
     "name": "stdout",
     "output_type": "stream",
     "text": [
      "18.441162318784382\n"
     ]
    }
   ],
   "source": [
    "child_conv = ((child_conv_1['result'][0] - child_conv_1['result'][1]) / child_conv_1['result'][0])*100\n",
    "print(child_conv)"
   ]
  },
  {
   "cell_type": "markdown",
   "id": "3a6b99ec",
   "metadata": {
    "deletable": false,
    "id": "3a6b99ec"
   },
   "source": [
    "**Вывод:** Мы можем с уверенность утверждать что с появлением детей у кредитополучатлей увеличивается вероятность просрочки по кредиту, в среднем количество просрочек увеличится на 18%. Разницы между группами по количеству детей на этих данных я не установил. Отвечая на вопрос, можно говорить о том, что есть зависимость между наличием детей в семье и возвратом кредита в срок. Наличие детей увеличивает возможность просрочки выплаты по кредиту."
   ]
  },
  {
   "cell_type": "markdown",
   "id": "97be82ca",
   "metadata": {
    "deletable": false,
    "editable": false,
    "id": "97be82ca"
   },
   "source": [
    "**Задание 20. Есть ли зависимость между семейным положением и возвратом кредита в срок?**"
   ]
  },
  {
   "cell_type": "code",
   "execution_count": 27,
   "id": "e99a2b77",
   "metadata": {},
   "outputs": [
    {
     "data": {
      "text/html": [
       "<div>\n",
       "<style scoped>\n",
       "    .dataframe tbody tr th:only-of-type {\n",
       "        vertical-align: middle;\n",
       "    }\n",
       "\n",
       "    .dataframe tbody tr th {\n",
       "        vertical-align: top;\n",
       "    }\n",
       "\n",
       "    .dataframe thead th {\n",
       "        text-align: right;\n",
       "    }\n",
       "</style>\n",
       "<table border=\"1\" class=\"dataframe\">\n",
       "  <thead>\n",
       "    <tr style=\"text-align: right;\">\n",
       "      <th>debt</th>\n",
       "      <th>0</th>\n",
       "      <th>1</th>\n",
       "    </tr>\n",
       "    <tr>\n",
       "      <th>family_status</th>\n",
       "      <th></th>\n",
       "      <th></th>\n",
       "    </tr>\n",
       "  </thead>\n",
       "  <tbody>\n",
       "    <tr>\n",
       "      <th>Не женат / не замужем</th>\n",
       "      <td>2523</td>\n",
       "      <td>273</td>\n",
       "    </tr>\n",
       "    <tr>\n",
       "      <th>в разводе</th>\n",
       "      <td>1105</td>\n",
       "      <td>84</td>\n",
       "    </tr>\n",
       "    <tr>\n",
       "      <th>вдовец / вдова</th>\n",
       "      <td>888</td>\n",
       "      <td>63</td>\n",
       "    </tr>\n",
       "    <tr>\n",
       "      <th>гражданский брак</th>\n",
       "      <td>3761</td>\n",
       "      <td>385</td>\n",
       "    </tr>\n",
       "    <tr>\n",
       "      <th>женат / замужем</th>\n",
       "      <td>11339</td>\n",
       "      <td>927</td>\n",
       "    </tr>\n",
       "  </tbody>\n",
       "</table>\n",
       "</div>"
      ],
      "text/plain": [
       "debt                       0    1\n",
       "family_status                    \n",
       "Не женат / не замужем   2523  273\n",
       "в разводе               1105   84\n",
       "вдовец / вдова           888   63\n",
       "гражданский брак        3761  385\n",
       "женат / замужем        11339  927"
      ]
     },
     "execution_count": 27,
     "metadata": {},
     "output_type": "execute_result"
    }
   ],
   "source": [
    "data_tmp = data.pivot_table(index=['family_status'], columns='debt', values='purpose', aggfunc='count')\n",
    "\n",
    "data_tmp"
   ]
  },
  {
   "cell_type": "code",
   "execution_count": 28,
   "id": "4c8f4813",
   "metadata": {},
   "outputs": [
    {
     "data": {
      "text/html": [
       "<div>\n",
       "<style scoped>\n",
       "    .dataframe tbody tr th:only-of-type {\n",
       "        vertical-align: middle;\n",
       "    }\n",
       "\n",
       "    .dataframe tbody tr th {\n",
       "        vertical-align: top;\n",
       "    }\n",
       "\n",
       "    .dataframe thead th {\n",
       "        text-align: right;\n",
       "    }\n",
       "</style>\n",
       "<table border=\"1\" class=\"dataframe\">\n",
       "  <thead>\n",
       "    <tr style=\"text-align: right;\">\n",
       "      <th>debt</th>\n",
       "      <th>0</th>\n",
       "      <th>1</th>\n",
       "      <th>ratio</th>\n",
       "    </tr>\n",
       "    <tr>\n",
       "      <th>family_status</th>\n",
       "      <th></th>\n",
       "      <th></th>\n",
       "      <th></th>\n",
       "    </tr>\n",
       "  </thead>\n",
       "  <tbody>\n",
       "    <tr>\n",
       "      <th>Не женат / не замужем</th>\n",
       "      <td>2523</td>\n",
       "      <td>273</td>\n",
       "      <td>0.097639</td>\n",
       "    </tr>\n",
       "    <tr>\n",
       "      <th>в разводе</th>\n",
       "      <td>1105</td>\n",
       "      <td>84</td>\n",
       "      <td>0.070648</td>\n",
       "    </tr>\n",
       "    <tr>\n",
       "      <th>вдовец / вдова</th>\n",
       "      <td>888</td>\n",
       "      <td>63</td>\n",
       "      <td>0.066246</td>\n",
       "    </tr>\n",
       "    <tr>\n",
       "      <th>гражданский брак</th>\n",
       "      <td>3761</td>\n",
       "      <td>385</td>\n",
       "      <td>0.092861</td>\n",
       "    </tr>\n",
       "    <tr>\n",
       "      <th>женат / замужем</th>\n",
       "      <td>11339</td>\n",
       "      <td>927</td>\n",
       "      <td>0.075575</td>\n",
       "    </tr>\n",
       "  </tbody>\n",
       "</table>\n",
       "</div>"
      ],
      "text/plain": [
       "debt                       0    1     ratio\n",
       "family_status                              \n",
       "Не женат / не замужем   2523  273  0.097639\n",
       "в разводе               1105   84  0.070648\n",
       "вдовец / вдова           888   63  0.066246\n",
       "гражданский брак        3761  385  0.092861\n",
       "женат / замужем        11339  927  0.075575"
      ]
     },
     "execution_count": 28,
     "metadata": {},
     "output_type": "execute_result"
    }
   ],
   "source": [
    "data_tmp['ratio'] = data_tmp[1] / (data_tmp[0] + data_tmp[1])\n",
    "\n",
    "data_tmp"
   ]
  },
  {
   "cell_type": "code",
   "execution_count": 30,
   "id": "4c6514eb",
   "metadata": {},
   "outputs": [
    {
     "data": {
      "text/plain": [
       "family_status\n",
       "вдовец / вдова           0.066246\n",
       "в разводе                0.070648\n",
       "женат / замужем          0.075575\n",
       "гражданский брак         0.092861\n",
       "Не женат / не замужем    0.097639\n",
       "Name: debt, dtype: float64"
      ]
     },
     "execution_count": 30,
     "metadata": {},
     "output_type": "execute_result"
    }
   ],
   "source": [
    "# если sum дклить на count - это будет mean\n",
    "\n",
    "data.groupby('family_status')['debt'].mean().sort_values(ascending=True)"
   ]
  },
  {
   "cell_type": "markdown",
   "id": "1c1b28e9",
   "metadata": {},
   "source": [
    "Для наглядности можно нарисовать столбчатую диаграмму вероятности просрочки в зависимости от семейного положения"
   ]
  },
  {
   "cell_type": "code",
   "execution_count": 31,
   "id": "3283c051",
   "metadata": {},
   "outputs": [
    {
     "data": {
      "image/png": "[encoded data removed]",
      "text/plain": [
       "<Figure size 432x288 with 1 Axes>"
      ]
     },
     "metadata": {
      "needs_background": "light"
     },
     "output_type": "display_data"
    }
   ],
   "source": [
    "import matplotlib.pyplot as plt\n",
    "plt.bar(['Не женат', 'в разводе', 'вдовец ','гражданский бр.', 'женат', ], family_st['result'])\n",
    "plt.show()"
   ]
  },
  {
   "cell_type": "markdown",
   "id": "1cef7837",
   "metadata": {
    "deletable": false,
    "id": "1cef7837"
   },
   "source": [
    "**Вывод:** Да, зависимость есть. Можно сказать, что неженатые/незамужние или люди в гражданском браке чаще имеют задолженность по кредиту, а те, кто развелся или овдовел, реже пропускают оплаты по кредиту."
   ]
  },
  {
   "cell_type": "code",
   "execution_count": 32,
   "id": "a00e66af",
   "metadata": {},
   "outputs": [
    {
     "data": {
      "text/plain": [
       "<AxesSubplot:ylabel='result'>"
      ]
     },
     "execution_count": 32,
     "metadata": {},
     "output_type": "execute_result"
    },
    {
     "data": {
      "image/png": "[encoded data removed]",
      "text/plain": [
       "<Figure size 432x288 with 1 Axes>"
      ]
     },
     "metadata": {
      "needs_background": "light"
     },
     "output_type": "display_data"
    }
   ],
   "source": [
    "import seaborn as sbs\n",
    "sbs.barplot(x=['Не женат', 'в разводе', 'вдовец ','гражданский брак', 'женат '], y=family_st['result'])"
   ]
  },
  {
   "cell_type": "markdown",
   "id": "1e8b2fca",
   "metadata": {
    "deletable": false,
    "editable": false,
    "id": "1e8b2fca"
   },
   "source": [
    "**Задание 21. Есть ли зависимость между уровнем дохода и возвратом кредита в срок?**"
   ]
  },
  {
   "cell_type": "code",
   "execution_count": 33,
   "id": "cd7e3720",
   "metadata": {
    "id": "cd7e3720"
   },
   "outputs": [
    {
     "data": {
      "text/html": [
       "<div>\n",
       "<style scoped>\n",
       "    .dataframe tbody tr th:only-of-type {\n",
       "        vertical-align: middle;\n",
       "    }\n",
       "\n",
       "    .dataframe tbody tr th {\n",
       "        vertical-align: top;\n",
       "    }\n",
       "\n",
       "    .dataframe thead th {\n",
       "        text-align: right;\n",
       "    }\n",
       "</style>\n",
       "<table border=\"1\" class=\"dataframe\">\n",
       "  <thead>\n",
       "    <tr style=\"text-align: right;\">\n",
       "      <th></th>\n",
       "      <th>sum</th>\n",
       "      <th>count</th>\n",
       "      <th>result</th>\n",
       "    </tr>\n",
       "    <tr>\n",
       "      <th>total_income_category</th>\n",
       "      <th></th>\n",
       "      <th></th>\n",
       "      <th></th>\n",
       "    </tr>\n",
       "  </thead>\n",
       "  <tbody>\n",
       "    <tr>\n",
       "      <th>E</th>\n",
       "      <td>2</td>\n",
       "      <td>22</td>\n",
       "      <td>0.090909</td>\n",
       "    </tr>\n",
       "    <tr>\n",
       "      <th>C</th>\n",
       "      <td>1353</td>\n",
       "      <td>15938</td>\n",
       "      <td>0.084891</td>\n",
       "    </tr>\n",
       "    <tr>\n",
       "      <th>A</th>\n",
       "      <td>2</td>\n",
       "      <td>25</td>\n",
       "      <td>0.080000</td>\n",
       "    </tr>\n",
       "    <tr>\n",
       "      <th>B</th>\n",
       "      <td>354</td>\n",
       "      <td>5014</td>\n",
       "      <td>0.070602</td>\n",
       "    </tr>\n",
       "    <tr>\n",
       "      <th>D</th>\n",
       "      <td>21</td>\n",
       "      <td>349</td>\n",
       "      <td>0.060172</td>\n",
       "    </tr>\n",
       "  </tbody>\n",
       "</table>\n",
       "</div>"
      ],
      "text/plain": [
       "                        sum  count    result\n",
       "total_income_category                       \n",
       "E                         2     22  0.090909\n",
       "C                      1353  15938  0.084891\n",
       "A                         2     25  0.080000\n",
       "B                       354   5014  0.070602\n",
       "D                        21    349  0.060172"
      ]
     },
     "execution_count": 33,
     "metadata": {},
     "output_type": "execute_result"
    }
   ],
   "source": [
    "#data_pivot_3 = data.pivot_table(index=['debt'], columns='total_income_category', values='family_status_id', aggfunc='count')\n",
    "#data_pivot_3\n",
    "income_st = pd.DataFrame()\n",
    "income_st['sum'] = data.groupby('total_income_category')['debt'].sum()\n",
    "income_st['count'] = data.groupby('total_income_category')['debt'].count()\n",
    "income_st['result'] = income_st['sum'] / income_st['count']\n",
    "income_st.sort_values('result', ascending = False)"
   ]
  },
  {
   "cell_type": "markdown",
   "id": "ee51f09e",
   "metadata": {},
   "source": [
    "Глядя на таблицу, можно сказать, что люди с более низким доходом имеют меньшее количество просрочек по кредитам, но говорить о какой-то очевидной зависимости трудно. Посчитаем корреляцию между уровнем дохода и долгом:"
   ]
  },
  {
   "cell_type": "code",
   "execution_count": 34,
   "id": "2d6f6b52",
   "metadata": {},
   "outputs": [
    {
     "data": {
      "text/html": [
       "<div>\n",
       "<style scoped>\n",
       "    .dataframe tbody tr th:only-of-type {\n",
       "        vertical-align: middle;\n",
       "    }\n",
       "\n",
       "    .dataframe tbody tr th {\n",
       "        vertical-align: top;\n",
       "    }\n",
       "\n",
       "    .dataframe thead th {\n",
       "        text-align: right;\n",
       "    }\n",
       "</style>\n",
       "<table border=\"1\" class=\"dataframe\">\n",
       "  <thead>\n",
       "    <tr style=\"text-align: right;\">\n",
       "      <th></th>\n",
       "      <th>total_income</th>\n",
       "      <th>debt</th>\n",
       "    </tr>\n",
       "  </thead>\n",
       "  <tbody>\n",
       "    <tr>\n",
       "      <th>total_income</th>\n",
       "      <td>1.000000</td>\n",
       "      <td>-0.012596</td>\n",
       "    </tr>\n",
       "    <tr>\n",
       "      <th>debt</th>\n",
       "      <td>-0.012596</td>\n",
       "      <td>1.000000</td>\n",
       "    </tr>\n",
       "  </tbody>\n",
       "</table>\n",
       "</div>"
      ],
      "text/plain": [
       "              total_income      debt\n",
       "total_income      1.000000 -0.012596\n",
       "debt             -0.012596  1.000000"
      ]
     },
     "execution_count": 34,
     "metadata": {},
     "output_type": "execute_result"
    }
   ],
   "source": [
    "verific_corr = pd.DataFrame()\n",
    "verific_corr['total_income'] = data['total_income']\n",
    "verific_corr['debt'] = data['debt']\n",
    "verific_corr.corr()"
   ]
  },
  {
   "cell_type": "markdown",
   "id": "90e00695",
   "metadata": {},
   "source": [
    "Видим что корреляции между доходом и наличием просрочки по кредиту нет."
   ]
  },
  {
   "cell_type": "markdown",
   "id": "e8593def",
   "metadata": {
    "deletable": false,
    "id": "e8593def"
   },
   "source": [
    "**Вывод:** Зависимости между уровнем дохода и возвратом кредита в срок нет."
   ]
  },
  {
   "cell_type": "markdown",
   "id": "99ecbd1f",
   "metadata": {
    "deletable": false,
    "editable": false,
    "id": "99ecbd1f"
   },
   "source": [
    "**Задание 22. Как разные цели кредита влияют на его возврат в срок?**"
   ]
  },
  {
   "cell_type": "code",
   "execution_count": 35,
   "id": "2b687290",
   "metadata": {
    "id": "2b687290"
   },
   "outputs": [
    {
     "data": {
      "text/html": [
       "<div>\n",
       "<style scoped>\n",
       "    .dataframe tbody tr th:only-of-type {\n",
       "        vertical-align: middle;\n",
       "    }\n",
       "\n",
       "    .dataframe tbody tr th {\n",
       "        vertical-align: top;\n",
       "    }\n",
       "\n",
       "    .dataframe thead th {\n",
       "        text-align: right;\n",
       "    }\n",
       "</style>\n",
       "<table border=\"1\" class=\"dataframe\">\n",
       "  <thead>\n",
       "    <tr style=\"text-align: right;\">\n",
       "      <th></th>\n",
       "      <th>sum</th>\n",
       "      <th>count</th>\n",
       "      <th>result</th>\n",
       "    </tr>\n",
       "    <tr>\n",
       "      <th>purpose_category</th>\n",
       "      <th></th>\n",
       "      <th></th>\n",
       "      <th></th>\n",
       "    </tr>\n",
       "  </thead>\n",
       "  <tbody>\n",
       "    <tr>\n",
       "      <th>операции с автомобилем</th>\n",
       "      <td>400</td>\n",
       "      <td>4281</td>\n",
       "      <td>0.093436</td>\n",
       "    </tr>\n",
       "    <tr>\n",
       "      <th>получение образования</th>\n",
       "      <td>369</td>\n",
       "      <td>3989</td>\n",
       "      <td>0.092504</td>\n",
       "    </tr>\n",
       "    <tr>\n",
       "      <th>проведение свадьбы</th>\n",
       "      <td>183</td>\n",
       "      <td>2324</td>\n",
       "      <td>0.078744</td>\n",
       "    </tr>\n",
       "    <tr>\n",
       "      <th>операции с недвижимостью</th>\n",
       "      <td>780</td>\n",
       "      <td>10754</td>\n",
       "      <td>0.072531</td>\n",
       "    </tr>\n",
       "  </tbody>\n",
       "</table>\n",
       "</div>"
      ],
      "text/plain": [
       "                          sum  count    result\n",
       "purpose_category                              \n",
       "операции с автомобилем    400   4281  0.093436\n",
       "получение образования     369   3989  0.092504\n",
       "проведение свадьбы        183   2324  0.078744\n",
       "операции с недвижимостью  780  10754  0.072531"
      ]
     },
     "execution_count": 35,
     "metadata": {},
     "output_type": "execute_result"
    }
   ],
   "source": [
    "# Ваш код будет здесь. Вы можете создавать новые ячейки.\n",
    "purpose_df = pd.DataFrame()\n",
    "purpose_df['sum'] = data.groupby('purpose_category')['debt'].sum()\n",
    "purpose_df['count'] = data.groupby('purpose_category')['debt'].count()\n",
    "purpose_df['result'] = purpose_df['sum'] / purpose_df['count']\n",
    "purpose_df.sort_values('result', ascending = False)"
   ]
  },
  {
   "cell_type": "markdown",
   "id": "b4bb2ce6",
   "metadata": {
    "deletable": false,
    "id": "b4bb2ce6"
   },
   "source": [
    "**Вывод:** Можно утверждать, что люди с большей вероятностью выплачивают кредит, если он взят на операции с недвижимостью, а так же реже имеют просрочку по выплатам взявшие кредит на проведение свадьбы (видимо до сих пор молодоженам дарят деньги). Чаще всего имеют просрочку по кредитам свзянным с автомобилями и получением образования."
   ]
  },
  {
   "cell_type": "markdown",
   "id": "09c3ac4c",
   "metadata": {
    "deletable": false,
    "editable": false,
    "id": "09c3ac4c"
   },
   "source": [
    "**Задание 23. Приведите возможные причины появления пропусков в исходных данных.**"
   ]
  },
  {
   "cell_type": "markdown",
   "id": "9da2ceda",
   "metadata": {
    "deletable": false,
    "id": "9da2ceda"
   },
   "source": [
    "*Ответ:* Я бы отнес пропуски в этом датафрейме к механизму образования MNAR (Missing Not At Random). Это пропуски, которые мы не можем восстановить, основываясь на другой информации, если невозможно установить причину их возниковения, и они будут влиять на наши какие-то исследования с данными, мы должны минимизировать их вред для наших выводов. \n",
    "\n",
    "Причины возникновения тоже рандомные могут быть: человеческий фактор (кто-то просто не заполнил форму на сайте, ошибка при переносе), потеря данных, данные собирались из разных источников и просто этой информации не было."
   ]
  },
  {
   "cell_type": "markdown",
   "id": "7b0487d6",
   "metadata": {
    "deletable": false,
    "editable": false,
    "id": "7b0487d6"
   },
   "source": [
    "**Задание 24. Объясните, почему заполнить пропуски медианным значением — лучшее решение для количественных переменных.**"
   ]
  },
  {
   "cell_type": "markdown",
   "id": "7ecf2b8e",
   "metadata": {
    "deletable": false,
    "id": "7ecf2b8e"
   },
   "source": [
    "*Ответ:* Потому что таким образом мы меньше всего искажаем статистику и можем делать выводы по группам, как-то группировать данные по категориям. Если мы удалим пропуски, то они в нашем случаем повлияют на количество наблюдений, для наших задач это важно, поэтому заполняем их значениями, которые меньше всего повлияют на значения по отношению к таким же у других наблюдений.\n",
    "\n",
    "Медиана показывает середину по частоте встречаемости значения, а среднее - это сумма всех делить на количество. Можно привести пример с заработной платой, когда средняя за счёт очень высокой зарплаты 2 руководителей будет гораздо выше медианного значения, и именно медиана будет правильнее говорить о размере самой частовстречающейся зарплаты. Если мы будем в таком случае заполнять пропуски средним значением, то у нас в общем на всех вырастет уровень дохода, и потом, когда будем находить отношения групп, проценты будут меньше, медиана меньше будет влиять на конечный результат."
   ]
  },
  {
   "cell_type": "markdown",
   "id": "6db5255a",
   "metadata": {
    "deletable": false,
    "editable": false,
    "id": "6db5255a"
   },
   "source": [
    "## Общий вывод."
   ]
  },
  {
   "cell_type": "markdown",
   "id": "0a198630",
   "metadata": {},
   "source": [
    "\n",
    "Было проведено исследование, оценивающее влияние различных факторов на погашение кредита в срок. Исследуемые данные - статистика о платежах клиентов. Результатом исследования будет система, которая может оценить способность потенциального заемщика вернуть кредит банку.\n",
    "\n",
    "Перед началом исследования были выдвинуты гипотезы:\n",
    "\n",
    "* Гипотеза 1: Количество детей влияет на факт погашения кредита в срок;\n",
    "* Гипотеза 2: Семейное положение влияет на факт погашения кредита в срок;\n",
    "* Гипотеза 3: Уровень дохода влияет на факт погашения кредита в срок;\n",
    "* Гипотеза 4: Цель кредита влияет на факт погашения кредита в срок;\n",
    "\n",
    "В результате исследования удалось установить зависимости:\n",
    "\n",
    "# Гипотеза 1 частично подтверждена:\n",
    "**Наличие детей в среднем увеличивает частоту просрочек по кредитам, а именно:**\n",
    "* 7,54% - Количество просроченных кредитов у заемщиков без детей\n",
    "* 9,24% - Количество просроченных кредитов у заемщиков, у которых есть дети\n",
    "\n",
    "**для более точных выводов по клиентам с 3 детьми и больше у нас недостаточно данных, можно провести дополнительное исследование на большей выборке данных.**\n",
    "\n",
    "**По исходным данным, получается что кредитополучатели с детьми на имеют более частые просрочки по выплатам, чем без детей. Абсолютная разница по вероятности просрочки у семей с детьми больше на 18%**\n",
    "\n",
    "# Гипотеза 2 подтверждена:\n",
    "\n",
    "* У неженатых/незамужних (**9,8% просрочек**) и у тех, у кого официально не зарегистрирован брак (**9,3% просроченных выплат**) вероятность стать должником выше.\n",
    "* Вдовцы/вдовы (**6,6%**), женатые/замужние (**7,6% просрочек**) и разведенные (**7,1%**) менее вероятно становятся должниками\n",
    "\n",
    "# Гипотеза 3 частично подтверждена:\n",
    "**Выборки недостаточно для формирования однозначных выводов**\n",
    "Можно сказать:\n",
    "* По категориям с самым малым и самым большим доходом (Е и А) очень мало данных и вывод по ним неочевиден, их мы учитывать не можем.\n",
    "* Если берем для анализа группы B,C,D - то по полученным данным можно сказать, что люди с большей ЗП чаще возвращают кредит в срок. Но говорить об однозначной зависимости в этих категориях по имеющимся данным нельзя.\n",
    "\n",
    "Рекомендация: провести дополнительное исследование на большей выборке данных.\n",
    "\n",
    "# Гипотеза 4 подтверждена:\n",
    "\n",
    "**Зависимость между целью кредита и фактом погашения в срок есть, а именно:**\n",
    "\n",
    "* 7,3% - доля просроченных кредитов на операции с недвижимостью\n",
    "* 7,9% - доля просроченных кредитов на проведение свадьбы\n",
    "* 9,3% - доля просроченных кредитов связанных с получением образования \n",
    "* 9,3% - доля просроченных кредитов взятых на операции с автомобилями\n",
    "\n",
    "Рекомендация: разбег между значениями есть, но он небольшой, поэтому не стоит наделять эту зависимость высоким весом при принятии решения о кредитоспособности клиента.\n",
    "\n",
    "**Общие рекомендации:**\n",
    "\n",
    "1. Специалистам, которые занимаются построением модели кредитного скоринга, можно использовать зависимости гипотез 2 и 4. Можно использовать статус семейного положения и цель кредита для оценки кредитоспособности клиента.\n",
    "2. С осторожностью можно принимать во внимание, что семьи с детьми в среднем имеют большее количество просрочек по кредиту, но руководствоваться только этим при выдаче кредита не стоит. По количеству доходов тоже нельзя говорить о какой-то корреляции. Для ответа на эти вопросы понадобится большая выборка данных.  \n"
   ]
  }
 ],
 "metadata": {
  "ExecuteTimeLog": [
   {
    "duration": 562,
    "start_time": "2022-08-02T09:09:40.229Z"
   },
   {
    "duration": 27,
    "start_time": "2022-08-02T09:09:42.565Z"
   },
   {
    "duration": 23,
    "start_time": "2022-08-02T09:09:45.529Z"
   },
   {
    "duration": 21,
    "start_time": "2022-08-02T09:09:47.925Z"
   },
   {
    "duration": 68,
    "start_time": "2022-08-02T09:09:52.807Z"
   },
   {
    "duration": 3,
    "start_time": "2022-08-02T09:09:55.001Z"
   },
   {
    "duration": 8,
    "start_time": "2022-08-02T09:09:57.056Z"
   },
   {
    "duration": 5,
    "start_time": "2022-08-02T09:09:59.389Z"
   },
   {
    "duration": 11,
    "start_time": "2022-08-02T09:10:01.533Z"
   },
   {
    "duration": 13,
    "start_time": "2022-08-02T09:10:03.608Z"
   },
   {
    "duration": 42,
    "start_time": "2022-08-02T09:10:08.360Z"
   },
   {
    "duration": 23,
    "start_time": "2022-08-02T09:10:10.011Z"
   },
   {
    "duration": 6,
    "start_time": "2022-08-02T09:10:13.636Z"
   },
   {
    "duration": 36,
    "start_time": "2022-08-02T09:10:15.729Z"
   },
   {
    "duration": 20,
    "start_time": "2022-08-02T09:10:22.366Z"
   },
   {
    "duration": 17,
    "start_time": "2022-08-02T09:10:24.494Z"
   },
   {
    "duration": 6,
    "start_time": "2022-08-02T09:10:29.505Z"
   },
   {
    "duration": 22,
    "start_time": "2022-08-02T09:10:31.005Z"
   },
   {
    "duration": 7,
    "start_time": "2022-08-02T09:10:32.966Z"
   },
   {
    "duration": 4,
    "start_time": "2022-08-02T09:10:36.637Z"
   },
   {
    "duration": 10,
    "start_time": "2022-08-02T09:10:38.185Z"
   },
   {
    "duration": 19,
    "start_time": "2022-08-02T09:10:48.661Z"
   },
   {
    "duration": 22,
    "start_time": "2022-08-02T09:12:48.138Z"
   },
   {
    "duration": 36,
    "start_time": "2022-08-02T09:17:48.333Z"
   },
   {
    "duration": 17,
    "start_time": "2022-08-02T09:18:26.568Z"
   },
   {
    "duration": 52,
    "start_time": "2022-08-02T09:19:54.201Z"
   },
   {
    "duration": 45,
    "start_time": "2022-08-02T09:20:19.555Z"
   },
   {
    "duration": 765,
    "start_time": "2022-08-02T12:56:42.879Z"
   },
   {
    "duration": 25,
    "start_time": "2022-08-02T12:56:45.080Z"
   },
   {
    "duration": 15,
    "start_time": "2022-08-02T12:56:48.246Z"
   },
   {
    "duration": 12,
    "start_time": "2022-08-02T12:56:50.994Z"
   },
   {
    "duration": 48,
    "start_time": "2022-08-02T12:56:53.859Z"
   },
   {
    "duration": 4,
    "start_time": "2022-08-02T12:56:55.673Z"
   },
   {
    "duration": 8,
    "start_time": "2022-08-02T12:56:57.761Z"
   },
   {
    "duration": 5,
    "start_time": "2022-08-02T12:57:00.044Z"
   },
   {
    "duration": 7,
    "start_time": "2022-08-02T12:57:02.727Z"
   },
   {
    "duration": 5,
    "start_time": "2022-08-02T12:57:04.930Z"
   },
   {
    "duration": 39,
    "start_time": "2022-08-02T12:57:08.226Z"
   },
   {
    "duration": 11,
    "start_time": "2022-08-02T12:57:09.830Z"
   },
   {
    "duration": 4,
    "start_time": "2022-08-02T12:57:14.506Z"
   },
   {
    "duration": 21,
    "start_time": "2022-08-02T12:57:28.690Z"
   },
   {
    "duration": 21,
    "start_time": "2022-08-02T12:57:31.778Z"
   },
   {
    "duration": 16,
    "start_time": "2022-08-02T12:57:33.965Z"
   },
   {
    "duration": 6,
    "start_time": "2022-08-02T12:57:45.091Z"
   },
   {
    "duration": 13,
    "start_time": "2022-08-02T12:57:48.030Z"
   },
   {
    "duration": 7,
    "start_time": "2022-08-02T12:57:49.840Z"
   },
   {
    "duration": 5,
    "start_time": "2022-08-02T12:57:56.168Z"
   },
   {
    "duration": 12,
    "start_time": "2022-08-02T12:57:56.699Z"
   },
   {
    "duration": 33,
    "start_time": "2022-08-02T13:00:14.781Z"
   },
   {
    "duration": 18,
    "start_time": "2022-08-02T13:12:47.503Z"
   },
   {
    "duration": 16,
    "start_time": "2022-08-02T13:13:26.167Z"
   },
   {
    "duration": 17,
    "start_time": "2022-08-02T13:14:43.478Z"
   },
   {
    "duration": 20,
    "start_time": "2022-08-02T13:15:16.464Z"
   },
   {
    "duration": 70,
    "start_time": "2022-08-02T13:24:11.689Z"
   },
   {
    "duration": 11,
    "start_time": "2022-08-02T13:24:24.689Z"
   },
   {
    "duration": 20,
    "start_time": "2022-08-02T13:26:22.861Z"
   },
   {
    "duration": 18,
    "start_time": "2022-08-02T13:57:29.587Z"
   },
   {
    "duration": 24,
    "start_time": "2022-08-02T13:57:36.537Z"
   },
   {
    "duration": 24,
    "start_time": "2022-08-02T13:58:32.831Z"
   },
   {
    "duration": 18,
    "start_time": "2022-08-02T14:02:47.047Z"
   },
   {
    "duration": 22,
    "start_time": "2022-08-02T14:03:20.889Z"
   },
   {
    "duration": 75,
    "start_time": "2022-08-02T14:10:05.438Z"
   },
   {
    "duration": 25,
    "start_time": "2022-08-02T14:10:09.784Z"
   },
   {
    "duration": 24,
    "start_time": "2022-08-02T14:10:13.652Z"
   },
   {
    "duration": 15,
    "start_time": "2022-08-02T14:10:15.666Z"
   },
   {
    "duration": 36,
    "start_time": "2022-08-02T14:10:19.999Z"
   },
   {
    "duration": 4,
    "start_time": "2022-08-02T14:10:22.557Z"
   },
   {
    "duration": 9,
    "start_time": "2022-08-02T14:10:26.750Z"
   },
   {
    "duration": 5,
    "start_time": "2022-08-02T14:10:29.280Z"
   },
   {
    "duration": 6,
    "start_time": "2022-08-02T14:10:34.043Z"
   },
   {
    "duration": 6,
    "start_time": "2022-08-02T14:10:36.260Z"
   },
   {
    "duration": 38,
    "start_time": "2022-08-02T14:10:39.281Z"
   },
   {
    "duration": 11,
    "start_time": "2022-08-02T14:10:41.174Z"
   },
   {
    "duration": 5,
    "start_time": "2022-08-02T14:10:43.395Z"
   },
   {
    "duration": 18,
    "start_time": "2022-08-02T14:10:45.771Z"
   },
   {
    "duration": 20,
    "start_time": "2022-08-02T14:10:48.782Z"
   },
   {
    "duration": 14,
    "start_time": "2022-08-02T14:10:50.641Z"
   },
   {
    "duration": 4,
    "start_time": "2022-08-02T14:10:53.639Z"
   },
   {
    "duration": 12,
    "start_time": "2022-08-02T14:10:57.556Z"
   },
   {
    "duration": 7,
    "start_time": "2022-08-02T14:10:59.735Z"
   },
   {
    "duration": 4,
    "start_time": "2022-08-02T14:11:02.976Z"
   },
   {
    "duration": 13,
    "start_time": "2022-08-02T14:11:05.208Z"
   },
   {
    "duration": 31,
    "start_time": "2022-08-02T14:11:07.939Z"
   },
   {
    "duration": 22,
    "start_time": "2022-08-02T14:11:17.030Z"
   },
   {
    "duration": 13,
    "start_time": "2022-08-02T14:14:32.774Z"
   },
   {
    "duration": 16,
    "start_time": "2022-08-02T14:15:34.393Z"
   },
   {
    "duration": 19,
    "start_time": "2022-08-02T14:19:05.188Z"
   },
   {
    "duration": 11,
    "start_time": "2022-08-02T14:31:06.836Z"
   },
   {
    "duration": 25,
    "start_time": "2022-08-02T14:32:08.858Z"
   },
   {
    "duration": 22,
    "start_time": "2022-08-02T14:46:22.118Z"
   },
   {
    "duration": 18,
    "start_time": "2022-08-02T15:00:30.958Z"
   },
   {
    "duration": 543,
    "start_time": "2022-08-07T09:27:13.296Z"
   },
   {
    "duration": 26,
    "start_time": "2022-08-07T09:27:15.213Z"
   },
   {
    "duration": 16,
    "start_time": "2022-08-07T09:27:18.317Z"
   },
   {
    "duration": 9,
    "start_time": "2022-08-07T09:27:21.682Z"
   },
   {
    "duration": 36,
    "start_time": "2022-08-07T09:27:24.284Z"
   },
   {
    "duration": 5,
    "start_time": "2022-08-07T09:27:26.627Z"
   },
   {
    "duration": 9,
    "start_time": "2022-08-07T09:27:31.384Z"
   },
   {
    "duration": 5,
    "start_time": "2022-08-07T09:27:34.421Z"
   },
   {
    "duration": 8,
    "start_time": "2022-08-07T09:27:37.355Z"
   },
   {
    "duration": 4,
    "start_time": "2022-08-07T09:27:40.529Z"
   },
   {
    "duration": 36,
    "start_time": "2022-08-07T09:27:44.242Z"
   },
   {
    "duration": 10,
    "start_time": "2022-08-07T09:27:46.345Z"
   },
   {
    "duration": 10,
    "start_time": "2022-08-07T09:36:47.913Z"
   },
   {
    "duration": 5,
    "start_time": "2022-08-07T09:36:53.779Z"
   },
   {
    "duration": 19,
    "start_time": "2022-08-07T09:36:55.737Z"
   },
   {
    "duration": 18,
    "start_time": "2022-08-07T09:36:58.312Z"
   },
   {
    "duration": 11,
    "start_time": "2022-08-07T09:37:00.286Z"
   },
   {
    "duration": 3,
    "start_time": "2022-08-07T09:37:03.800Z"
   },
   {
    "duration": 10,
    "start_time": "2022-08-07T09:37:05.688Z"
   },
   {
    "duration": 6,
    "start_time": "2022-08-07T09:37:07.592Z"
   },
   {
    "duration": 4,
    "start_time": "2022-08-07T09:37:10.783Z"
   },
   {
    "duration": 9,
    "start_time": "2022-08-07T09:37:12.434Z"
   },
   {
    "duration": 24,
    "start_time": "2022-08-07T09:37:15.278Z"
   },
   {
    "duration": 23,
    "start_time": "2022-08-07T09:37:25.112Z"
   },
   {
    "duration": 36,
    "start_time": "2022-08-07T09:37:51.613Z"
   },
   {
    "duration": 4,
    "start_time": "2022-08-07T09:37:59.892Z"
   },
   {
    "duration": 19,
    "start_time": "2022-08-07T09:38:11.681Z"
   },
   {
    "duration": 17,
    "start_time": "2022-08-07T09:38:15.834Z"
   },
   {
    "duration": 576,
    "start_time": "2022-08-07T09:38:24.112Z"
   },
   {
    "duration": 19,
    "start_time": "2022-08-07T09:38:41.120Z"
   },
   {
    "duration": 15,
    "start_time": "2022-08-07T09:38:47.312Z"
   },
   {
    "duration": 129,
    "start_time": "2022-08-07T09:39:29.811Z"
   },
   {
    "duration": 23,
    "start_time": "2022-08-07T09:39:46.467Z"
   },
   {
    "duration": 490,
    "start_time": "2022-08-07T10:03:05.460Z"
   },
   {
    "duration": 20,
    "start_time": "2022-08-07T10:03:05.952Z"
   },
   {
    "duration": 13,
    "start_time": "2022-08-07T10:03:05.973Z"
   },
   {
    "duration": 7,
    "start_time": "2022-08-07T10:03:05.988Z"
   },
   {
    "duration": 29,
    "start_time": "2022-08-07T10:03:05.997Z"
   },
   {
    "duration": 28,
    "start_time": "2022-08-07T10:03:06.028Z"
   },
   {
    "duration": 10,
    "start_time": "2022-08-07T10:03:06.057Z"
   },
   {
    "duration": 3,
    "start_time": "2022-08-07T10:03:06.069Z"
   },
   {
    "duration": 8,
    "start_time": "2022-08-07T10:03:06.074Z"
   },
   {
    "duration": 4,
    "start_time": "2022-08-07T10:03:06.085Z"
   },
   {
    "duration": 28,
    "start_time": "2022-08-07T10:03:06.091Z"
   },
   {
    "duration": 36,
    "start_time": "2022-08-07T10:03:06.120Z"
   },
   {
    "duration": 4,
    "start_time": "2022-08-07T10:03:06.157Z"
   },
   {
    "duration": 20,
    "start_time": "2022-08-07T10:03:06.162Z"
   },
   {
    "duration": 18,
    "start_time": "2022-08-07T10:03:06.184Z"
   },
   {
    "duration": 10,
    "start_time": "2022-08-07T10:03:06.203Z"
   },
   {
    "duration": 7,
    "start_time": "2022-08-07T10:03:06.214Z"
   },
   {
    "duration": 44,
    "start_time": "2022-08-07T10:03:06.222Z"
   },
   {
    "duration": 9,
    "start_time": "2022-08-07T10:03:06.268Z"
   },
   {
    "duration": 3,
    "start_time": "2022-08-07T10:03:06.278Z"
   },
   {
    "duration": 12,
    "start_time": "2022-08-07T10:03:06.283Z"
   },
   {
    "duration": 17,
    "start_time": "2022-08-07T10:03:06.296Z"
   },
   {
    "duration": 17,
    "start_time": "2022-08-07T10:03:06.314Z"
   },
   {
    "duration": 49,
    "start_time": "2022-08-07T10:03:06.333Z"
   },
   {
    "duration": 3,
    "start_time": "2022-08-07T10:03:06.384Z"
   },
   {
    "duration": 17,
    "start_time": "2022-08-07T10:03:06.388Z"
   },
   {
    "duration": 20,
    "start_time": "2022-08-07T10:03:06.407Z"
   },
   {
    "duration": 514,
    "start_time": "2022-08-07T10:03:06.457Z"
   },
   {
    "duration": 16,
    "start_time": "2022-08-07T10:03:06.973Z"
   },
   {
    "duration": 17,
    "start_time": "2022-08-07T10:03:06.990Z"
   },
   {
    "duration": 20,
    "start_time": "2022-08-07T10:03:07.009Z"
   },
   {
    "duration": 65,
    "start_time": "2022-08-07T10:11:13.126Z"
   },
   {
    "duration": 13,
    "start_time": "2022-08-07T10:11:13.193Z"
   },
   {
    "duration": 13,
    "start_time": "2022-08-07T10:11:13.208Z"
   },
   {
    "duration": 8,
    "start_time": "2022-08-07T10:11:13.222Z"
   },
   {
    "duration": 46,
    "start_time": "2022-08-07T10:11:13.231Z"
   },
   {
    "duration": 3,
    "start_time": "2022-08-07T10:11:13.279Z"
   },
   {
    "duration": 9,
    "start_time": "2022-08-07T10:11:13.283Z"
   },
   {
    "duration": 4,
    "start_time": "2022-08-07T10:11:13.293Z"
   },
   {
    "duration": 6,
    "start_time": "2022-08-07T10:11:13.298Z"
   },
   {
    "duration": 4,
    "start_time": "2022-08-07T10:11:13.306Z"
   },
   {
    "duration": 51,
    "start_time": "2022-08-07T10:11:13.311Z"
   },
   {
    "duration": 8,
    "start_time": "2022-08-07T10:11:13.363Z"
   },
   {
    "duration": 4,
    "start_time": "2022-08-07T10:11:13.373Z"
   },
   {
    "duration": 17,
    "start_time": "2022-08-07T10:11:13.379Z"
   },
   {
    "duration": 15,
    "start_time": "2022-08-07T10:11:13.397Z"
   },
   {
    "duration": 9,
    "start_time": "2022-08-07T10:11:13.413Z"
   },
   {
    "duration": 5,
    "start_time": "2022-08-07T10:11:13.423Z"
   },
   {
    "duration": 28,
    "start_time": "2022-08-07T10:11:13.429Z"
   },
   {
    "duration": 7,
    "start_time": "2022-08-07T10:11:13.459Z"
   },
   {
    "duration": 3,
    "start_time": "2022-08-07T10:11:13.467Z"
   },
   {
    "duration": 9,
    "start_time": "2022-08-07T10:11:13.471Z"
   },
   {
    "duration": 15,
    "start_time": "2022-08-07T10:11:13.482Z"
   },
   {
    "duration": 17,
    "start_time": "2022-08-07T10:11:13.498Z"
   },
   {
    "duration": 60,
    "start_time": "2022-08-07T10:11:13.516Z"
   },
   {
    "duration": 3,
    "start_time": "2022-08-07T10:11:13.577Z"
   },
   {
    "duration": 17,
    "start_time": "2022-08-07T10:11:13.581Z"
   },
   {
    "duration": 13,
    "start_time": "2022-08-07T10:11:13.600Z"
   },
   {
    "duration": 18,
    "start_time": "2022-08-07T10:11:38.049Z"
   },
   {
    "duration": 17,
    "start_time": "2022-08-07T10:11:50.451Z"
   },
   {
    "duration": 62,
    "start_time": "2022-08-07T10:12:41.880Z"
   },
   {
    "duration": 17,
    "start_time": "2022-08-07T10:12:44.211Z"
   },
   {
    "duration": 8,
    "start_time": "2022-08-07T10:12:45.754Z"
   },
   {
    "duration": 470,
    "start_time": "2022-08-07T10:13:06.445Z"
   },
   {
    "duration": 19,
    "start_time": "2022-08-07T10:13:06.917Z"
   },
   {
    "duration": 13,
    "start_time": "2022-08-07T10:13:06.938Z"
   },
   {
    "duration": 8,
    "start_time": "2022-08-07T10:13:06.953Z"
   },
   {
    "duration": 32,
    "start_time": "2022-08-07T10:13:06.962Z"
   },
   {
    "duration": 4,
    "start_time": "2022-08-07T10:13:06.996Z"
   },
   {
    "duration": 16,
    "start_time": "2022-08-07T10:13:07.002Z"
   },
   {
    "duration": 5,
    "start_time": "2022-08-07T10:13:07.020Z"
   },
   {
    "duration": 11,
    "start_time": "2022-08-07T10:13:07.027Z"
   },
   {
    "duration": 4,
    "start_time": "2022-08-07T10:13:07.054Z"
   },
   {
    "duration": 33,
    "start_time": "2022-08-07T10:13:07.059Z"
   },
   {
    "duration": 10,
    "start_time": "2022-08-07T10:13:07.094Z"
   },
   {
    "duration": 7,
    "start_time": "2022-08-07T10:13:07.105Z"
   },
   {
    "duration": 21,
    "start_time": "2022-08-07T10:13:07.113Z"
   },
   {
    "duration": 29,
    "start_time": "2022-08-07T10:13:07.135Z"
   },
   {
    "duration": 9,
    "start_time": "2022-08-07T10:13:07.166Z"
   },
   {
    "duration": 4,
    "start_time": "2022-08-07T10:13:07.177Z"
   },
   {
    "duration": 10,
    "start_time": "2022-08-07T10:13:07.183Z"
   },
   {
    "duration": 9,
    "start_time": "2022-08-07T10:13:07.194Z"
   },
   {
    "duration": 4,
    "start_time": "2022-08-07T10:13:07.205Z"
   },
   {
    "duration": 11,
    "start_time": "2022-08-07T10:13:07.210Z"
   },
   {
    "duration": 40,
    "start_time": "2022-08-07T10:13:07.223Z"
   },
   {
    "duration": 24,
    "start_time": "2022-08-07T10:13:07.266Z"
   },
   {
    "duration": 40,
    "start_time": "2022-08-07T10:13:07.292Z"
   },
   {
    "duration": 22,
    "start_time": "2022-08-07T10:13:07.334Z"
   },
   {
    "duration": 28,
    "start_time": "2022-08-07T10:13:07.358Z"
   },
   {
    "duration": 22,
    "start_time": "2022-08-07T10:13:07.388Z"
   },
   {
    "duration": 10,
    "start_time": "2022-08-07T10:13:07.414Z"
   },
   {
    "duration": 43,
    "start_time": "2022-08-07T10:13:07.425Z"
   },
   {
    "duration": 334,
    "start_time": "2022-08-07T10:13:07.470Z"
   },
   {
    "duration": 14,
    "start_time": "2022-08-07T10:13:07.806Z"
   },
   {
    "duration": 12,
    "start_time": "2022-08-07T10:13:07.822Z"
   },
   {
    "duration": 32,
    "start_time": "2022-08-07T10:13:07.835Z"
   },
   {
    "duration": 412,
    "start_time": "2022-08-07T10:14:45.794Z"
   },
   {
    "duration": 21,
    "start_time": "2022-08-07T10:14:46.208Z"
   },
   {
    "duration": 13,
    "start_time": "2022-08-07T10:14:46.230Z"
   },
   {
    "duration": 13,
    "start_time": "2022-08-07T10:14:46.245Z"
   },
   {
    "duration": 36,
    "start_time": "2022-08-07T10:14:46.259Z"
   },
   {
    "duration": 3,
    "start_time": "2022-08-07T10:14:46.297Z"
   },
   {
    "duration": 11,
    "start_time": "2022-08-07T10:14:46.301Z"
   },
   {
    "duration": 4,
    "start_time": "2022-08-07T10:14:46.313Z"
   },
   {
    "duration": 8,
    "start_time": "2022-08-07T10:14:46.318Z"
   },
   {
    "duration": 4,
    "start_time": "2022-08-07T10:14:46.329Z"
   },
   {
    "duration": 51,
    "start_time": "2022-08-07T10:14:46.334Z"
   },
   {
    "duration": 8,
    "start_time": "2022-08-07T10:14:46.386Z"
   },
   {
    "duration": 5,
    "start_time": "2022-08-07T10:14:46.395Z"
   },
   {
    "duration": 22,
    "start_time": "2022-08-07T10:14:46.401Z"
   },
   {
    "duration": 15,
    "start_time": "2022-08-07T10:14:46.424Z"
   },
   {
    "duration": 25,
    "start_time": "2022-08-07T10:14:46.441Z"
   },
   {
    "duration": 14,
    "start_time": "2022-08-07T10:14:46.467Z"
   },
   {
    "duration": 11,
    "start_time": "2022-08-07T10:14:46.482Z"
   },
   {
    "duration": 6,
    "start_time": "2022-08-07T10:14:46.495Z"
   },
   {
    "duration": 4,
    "start_time": "2022-08-07T10:14:46.502Z"
   },
   {
    "duration": 8,
    "start_time": "2022-08-07T10:14:46.507Z"
   },
   {
    "duration": 41,
    "start_time": "2022-08-07T10:14:46.517Z"
   },
   {
    "duration": 18,
    "start_time": "2022-08-07T10:14:46.561Z"
   },
   {
    "duration": 30,
    "start_time": "2022-08-07T10:14:46.581Z"
   },
   {
    "duration": 3,
    "start_time": "2022-08-07T10:14:46.613Z"
   },
   {
    "duration": 38,
    "start_time": "2022-08-07T10:14:46.618Z"
   },
   {
    "duration": 20,
    "start_time": "2022-08-07T10:14:46.657Z"
   },
   {
    "duration": 10,
    "start_time": "2022-08-07T10:14:46.681Z"
   },
   {
    "duration": 26,
    "start_time": "2022-08-07T10:14:46.692Z"
   },
   {
    "duration": 9,
    "start_time": "2022-08-07T10:14:46.720Z"
   },
   {
    "duration": 344,
    "start_time": "2022-08-07T10:14:46.754Z"
   },
   {
    "duration": 14,
    "start_time": "2022-08-07T10:14:47.099Z"
   },
   {
    "duration": 10,
    "start_time": "2022-08-07T10:14:47.115Z"
   },
   {
    "duration": 33,
    "start_time": "2022-08-07T10:14:47.126Z"
   },
   {
    "duration": 8,
    "start_time": "2022-08-07T10:15:21.045Z"
   },
   {
    "duration": 8,
    "start_time": "2022-08-07T10:15:31.666Z"
   },
   {
    "duration": 8,
    "start_time": "2022-08-07T10:15:36.772Z"
   },
   {
    "duration": 427,
    "start_time": "2022-08-07T10:19:07.971Z"
   },
   {
    "duration": 19,
    "start_time": "2022-08-07T10:19:08.400Z"
   },
   {
    "duration": 13,
    "start_time": "2022-08-07T10:19:08.421Z"
   },
   {
    "duration": 19,
    "start_time": "2022-08-07T10:19:08.436Z"
   },
   {
    "duration": 28,
    "start_time": "2022-08-07T10:19:08.457Z"
   },
   {
    "duration": 3,
    "start_time": "2022-08-07T10:19:08.486Z"
   },
   {
    "duration": 9,
    "start_time": "2022-08-07T10:19:08.490Z"
   },
   {
    "duration": 3,
    "start_time": "2022-08-07T10:19:08.501Z"
   },
   {
    "duration": 8,
    "start_time": "2022-08-07T10:19:08.505Z"
   },
   {
    "duration": 4,
    "start_time": "2022-08-07T10:19:08.515Z"
   },
   {
    "duration": 54,
    "start_time": "2022-08-07T10:19:08.520Z"
   },
   {
    "duration": 8,
    "start_time": "2022-08-07T10:19:08.575Z"
   },
   {
    "duration": 4,
    "start_time": "2022-08-07T10:19:08.584Z"
   },
   {
    "duration": 19,
    "start_time": "2022-08-07T10:19:08.589Z"
   },
   {
    "duration": 15,
    "start_time": "2022-08-07T10:19:08.609Z"
   },
   {
    "duration": 30,
    "start_time": "2022-08-07T10:19:08.625Z"
   },
   {
    "duration": 5,
    "start_time": "2022-08-07T10:19:08.657Z"
   },
   {
    "duration": 11,
    "start_time": "2022-08-07T10:19:08.664Z"
   },
   {
    "duration": 6,
    "start_time": "2022-08-07T10:19:08.676Z"
   },
   {
    "duration": 4,
    "start_time": "2022-08-07T10:19:08.683Z"
   },
   {
    "duration": 11,
    "start_time": "2022-08-07T10:19:08.688Z"
   },
   {
    "duration": 18,
    "start_time": "2022-08-07T10:19:08.700Z"
   },
   {
    "duration": 43,
    "start_time": "2022-08-07T10:19:08.719Z"
   },
   {
    "duration": 29,
    "start_time": "2022-08-07T10:19:08.764Z"
   },
   {
    "duration": 4,
    "start_time": "2022-08-07T10:19:08.795Z"
   },
   {
    "duration": 19,
    "start_time": "2022-08-07T10:19:08.800Z"
   },
   {
    "duration": 38,
    "start_time": "2022-08-07T10:19:08.820Z"
   },
   {
    "duration": 7,
    "start_time": "2022-08-07T10:19:08.861Z"
   },
   {
    "duration": 15,
    "start_time": "2022-08-07T10:19:08.869Z"
   },
   {
    "duration": 7,
    "start_time": "2022-08-07T10:19:08.885Z"
   },
   {
    "duration": 349,
    "start_time": "2022-08-07T10:19:08.893Z"
   },
   {
    "duration": 18,
    "start_time": "2022-08-07T10:19:09.243Z"
   },
   {
    "duration": 12,
    "start_time": "2022-08-07T10:19:09.262Z"
   },
   {
    "duration": 15,
    "start_time": "2022-08-07T10:19:09.275Z"
   },
   {
    "duration": 109,
    "start_time": "2022-08-07T12:38:05.601Z"
   },
   {
    "duration": 714,
    "start_time": "2022-08-08T09:15:41.516Z"
   },
   {
    "duration": 21,
    "start_time": "2022-08-08T09:15:46.346Z"
   },
   {
    "duration": 14,
    "start_time": "2022-08-08T09:15:49.019Z"
   },
   {
    "duration": 10,
    "start_time": "2022-08-08T09:15:51.351Z"
   },
   {
    "duration": 31,
    "start_time": "2022-08-08T09:15:53.880Z"
   },
   {
    "duration": 3,
    "start_time": "2022-08-08T09:15:56.428Z"
   },
   {
    "duration": 10,
    "start_time": "2022-08-08T09:15:58.102Z"
   },
   {
    "duration": 5,
    "start_time": "2022-08-08T09:16:00.400Z"
   },
   {
    "duration": 8,
    "start_time": "2022-08-08T09:16:02.249Z"
   },
   {
    "duration": 4,
    "start_time": "2022-08-08T09:16:04.842Z"
   },
   {
    "duration": 31,
    "start_time": "2022-08-08T09:16:07.457Z"
   },
   {
    "duration": 9,
    "start_time": "2022-08-08T09:16:09.173Z"
   },
   {
    "duration": 4,
    "start_time": "2022-08-08T09:16:11.454Z"
   },
   {
    "duration": 19,
    "start_time": "2022-08-08T09:16:13.310Z"
   },
   {
    "duration": 18,
    "start_time": "2022-08-08T09:16:15.930Z"
   },
   {
    "duration": 15,
    "start_time": "2022-08-08T09:16:17.983Z"
   },
   {
    "duration": 3,
    "start_time": "2022-08-08T09:16:20.896Z"
   },
   {
    "duration": 10,
    "start_time": "2022-08-08T09:16:22.688Z"
   },
   {
    "duration": 7,
    "start_time": "2022-08-08T09:16:24.585Z"
   },
   {
    "duration": 4,
    "start_time": "2022-08-08T09:16:27.985Z"
   },
   {
    "duration": 8,
    "start_time": "2022-08-08T09:16:30.313Z"
   },
   {
    "duration": 22,
    "start_time": "2022-08-08T09:16:32.962Z"
   },
   {
    "duration": 20,
    "start_time": "2022-08-08T09:16:48.182Z"
   },
   {
    "duration": 34,
    "start_time": "2022-08-08T09:16:51.614Z"
   },
   {
    "duration": 3,
    "start_time": "2022-08-08T09:16:57.248Z"
   },
   {
    "duration": 19,
    "start_time": "2022-08-08T09:20:13.543Z"
   },
   {
    "duration": 26,
    "start_time": "2022-08-08T09:20:16.396Z"
   },
   {
    "duration": 22,
    "start_time": "2022-08-08T09:20:18.596Z"
   },
   {
    "duration": 17,
    "start_time": "2022-08-08T09:20:21.210Z"
   },
   {
    "duration": 9,
    "start_time": "2022-08-08T09:20:26.574Z"
   },
   {
    "duration": 549,
    "start_time": "2022-08-08T09:20:29.675Z"
   },
   {
    "duration": 687,
    "start_time": "2022-08-08T09:20:37.367Z"
   },
   {
    "duration": 16,
    "start_time": "2022-08-08T09:20:42.528Z"
   },
   {
    "duration": 13,
    "start_time": "2022-08-08T09:20:45.434Z"
   },
   {
    "duration": 18,
    "start_time": "2022-08-08T09:20:52.655Z"
   },
   {
    "duration": 426,
    "start_time": "2022-08-08T17:10:16.061Z"
   },
   {
    "duration": 20,
    "start_time": "2022-08-08T17:10:16.489Z"
   },
   {
    "duration": 13,
    "start_time": "2022-08-08T17:10:16.510Z"
   },
   {
    "duration": 8,
    "start_time": "2022-08-08T17:10:16.524Z"
   },
   {
    "duration": 30,
    "start_time": "2022-08-08T17:10:16.534Z"
   },
   {
    "duration": 3,
    "start_time": "2022-08-08T17:10:16.565Z"
   },
   {
    "duration": 10,
    "start_time": "2022-08-08T17:10:16.569Z"
   },
   {
    "duration": 4,
    "start_time": "2022-08-08T17:10:16.580Z"
   },
   {
    "duration": 31,
    "start_time": "2022-08-08T17:10:16.585Z"
   },
   {
    "duration": 4,
    "start_time": "2022-08-08T17:10:16.619Z"
   },
   {
    "duration": 31,
    "start_time": "2022-08-08T17:10:16.624Z"
   },
   {
    "duration": 8,
    "start_time": "2022-08-08T17:10:16.657Z"
   },
   {
    "duration": 5,
    "start_time": "2022-08-08T17:10:16.666Z"
   },
   {
    "duration": 43,
    "start_time": "2022-08-08T17:10:16.672Z"
   },
   {
    "duration": 16,
    "start_time": "2022-08-08T17:10:16.716Z"
   },
   {
    "duration": 11,
    "start_time": "2022-08-08T17:10:16.733Z"
   },
   {
    "duration": 11,
    "start_time": "2022-08-08T17:10:16.746Z"
   },
   {
    "duration": 16,
    "start_time": "2022-08-08T17:10:16.759Z"
   },
   {
    "duration": 5,
    "start_time": "2022-08-08T17:10:16.777Z"
   },
   {
    "duration": 10,
    "start_time": "2022-08-08T17:10:16.783Z"
   },
   {
    "duration": 18,
    "start_time": "2022-08-08T17:10:16.794Z"
   },
   {
    "duration": 19,
    "start_time": "2022-08-08T17:10:16.814Z"
   },
   {
    "duration": 18,
    "start_time": "2022-08-08T17:10:16.834Z"
   },
   {
    "duration": 31,
    "start_time": "2022-08-08T17:10:16.853Z"
   },
   {
    "duration": 25,
    "start_time": "2022-08-08T17:10:16.886Z"
   },
   {
    "duration": 17,
    "start_time": "2022-08-08T17:10:16.912Z"
   },
   {
    "duration": 17,
    "start_time": "2022-08-08T17:10:16.931Z"
   },
   {
    "duration": 7,
    "start_time": "2022-08-08T17:10:16.951Z"
   },
   {
    "duration": 16,
    "start_time": "2022-08-08T17:10:16.959Z"
   },
   {
    "duration": 35,
    "start_time": "2022-08-08T17:10:16.976Z"
   },
   {
    "duration": 317,
    "start_time": "2022-08-08T17:10:17.012Z"
   },
   {
    "duration": 556,
    "start_time": "2022-08-08T17:10:17.330Z"
   },
   {
    "duration": 14,
    "start_time": "2022-08-08T17:10:17.888Z"
   },
   {
    "duration": 11,
    "start_time": "2022-08-08T17:10:17.911Z"
   },
   {
    "duration": 24,
    "start_time": "2022-08-08T17:10:17.923Z"
   }
  ],
  "colab": {
   "name": "dpp_template_part2.ipynb",
   "provenance": []
  },
  "kernelspec": {
   "display_name": "Python 3 (ipykernel)",
   "language": "python",
   "name": "python3"
  },
  "language_info": {
   "codemirror_mode": {
    "name": "ipython",
    "version": 3
   },
   "file_extension": ".py",
   "mimetype": "text/x-python",
   "name": "python",
   "nbconvert_exporter": "python",
   "pygments_lexer": "ipython3",
   "version": "3.9.13"
  },
  "toc": {
   "base_numbering": 1,
   "nav_menu": {},
   "number_sections": true,
   "sideBar": true,
   "skip_h1_title": true,
   "title_cell": "Table of Contents",
   "title_sidebar": "Contents",
   "toc_cell": false,
   "toc_position": {
    "height": "calc(100% - 180px)",
    "left": "10px",
    "top": "150px",
    "width": "539px"
   },
   "toc_section_display": true,
   "toc_window_display": true
  }
 },
 "nbformat": 4,
 "nbformat_minor": 5
}
